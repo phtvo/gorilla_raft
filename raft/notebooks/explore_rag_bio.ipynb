{
 "cells": [
  {
   "cell_type": "code",
   "execution_count": 4,
   "metadata": {},
   "outputs": [
    {
     "name": "stdout",
     "output_type": "stream",
     "text": [
      "Dataset({\n",
      "    features: ['question', 'answer', 'relevant_passage_ids', 'id'],\n",
      "    num_rows: 4719\n",
      "})\n",
      "Dataset({\n",
      "    features: ['passage', 'id'],\n",
      "    num_rows: 40221\n",
      "})\n"
     ]
    },
    {
     "data": {
      "text/plain": [
       "({'question': 'Is Hirschsprung disease a mendelian or a multifactorial disorder?',\n",
       "  'answer': \"Coding sequence mutations in RET, GDNF, EDNRB, EDN3, and SOX10 are involved in the development of Hirschsprung disease. The majority of these genes was shown to be related to Mendelian syndromic forms of Hirschsprung's disease, whereas the non-Mendelian inheritance of sporadic non-syndromic Hirschsprung disease proved to be complex; involvement of multiple loci was demonstrated in a multiplicative model.\",\n",
       "  'relevant_passage_ids': '[20598273, 6650562, 15829955, 15617541, 23001136, 8896569, 21995290, 12239580, 15858239]',\n",
       "  'id': 0},\n",
       " {'passage': 'New data on viruses isolated from patients with subacute thyroiditis de Quervain \\nare reported. Characteristic morphological, cytological, some physico-chemical \\nand biological features of the isolated viruses are described. A possible role \\nof these viruses in human and animal health disorders is discussed. The isolated \\nviruses remain unclassified so far.',\n",
       "  'id': 9797})"
      ]
     },
     "execution_count": 4,
     "metadata": {},
     "output_type": "execute_result"
    }
   ],
   "source": [
    "import json\n",
    "from datasets import load_dataset\n",
    "import numpy as np\n",
    "\n",
    "dataset_id = \"rag-datasets/rag-mini-bioasq\"\n",
    "\n",
    "dataset = load_dataset(dataset_id, \"question-answer-passages\",trust_remote_code=True)[\"test\"]\n",
    "corpus = load_dataset(dataset_id, \"text-corpus\",trust_remote_code=True)[\"passages\"]\n",
    "print(dataset)\n",
    "print(corpus)\n",
    "dataset[0], corpus[0]"
   ]
  },
  {
   "cell_type": "code",
   "execution_count": 7,
   "metadata": {},
   "outputs": [],
   "source": [
    "id_to_corpus = {e[\"id\"]: e[\"passage\"] for e in corpus}"
   ]
  },
  {
   "cell_type": "code",
   "execution_count": 17,
   "metadata": {},
   "outputs": [
    {
     "data": {
      "text/plain": [
       "({'question': 'Is Hirschsprung disease a mendelian or a multifactorial disorder?',\n",
       "  'answer': \"Coding sequence mutations in RET, GDNF, EDNRB, EDN3, and SOX10 are involved in the development of Hirschsprung disease. The majority of these genes was shown to be related to Mendelian syndromic forms of Hirschsprung's disease, whereas the non-Mendelian inheritance of sporadic non-syndromic Hirschsprung disease proved to be complex; involvement of multiple loci was demonstrated in a multiplicative model.\",\n",
       "  'relevant_passage_ids': '[20598273, 6650562, 15829955, 15617541, 23001136, 8896569, 21995290, 12239580, 15858239]',\n",
       "  'id': 0,\n",
       "  'context': 'The major gene for Hirschsprung disease (HSCR) encodes the receptor tyrosine \\nkinase RET. In a study of 690 European- and 192 Chinese-descent probands and \\ntheir parents or controls, we demonstrate the ubiquity of a >4-fold \\nsusceptibility from a C-->T allele (rs2435357: p = 3.9 x 10(-43) in European \\nancestry; p = 1.1 x 10(-21) in Chinese samples) that probably arose once within \\nthe intronic RET enhancer MCS+9.7. With in vitro assays, we now show that the T \\nvariant disrupts a SOX10 binding site within MCS+9.7 that compromises RET \\ntransactivation. The T allele, with a control frequency of 20%-30%/47% and case \\nfrequency of 54%-62%/88% in European/Chinese-ancestry individuals, is involved \\nin all forms of HSCR. It is marginally associated with proband gender (p = 0.13) \\nand significantly so with length of aganglionosis (p = 7.6 x 10(-5)) and \\nfamiliality (p = 6.2 x 10(-4)). The enhancer variant is more frequent in the \\ncommon forms of male, short-segment, and simplex families whereas multiple, \\nrare, coding mutations are the norm in the less common and more severe forms of \\nfemale, long-segment, and multiplex families. The T variant also increases \\npenetrance in patients with rare RET coding mutations. Thus, both rare and \\ncommon mutations, individually and together, make contributions to the risk of \\nHSCR. The distribution of RET variants in diverse HSCR patients suggests a \\n\"cellular-recessive\" genetic model where both RET alleles\\' function is \\ncompromised. The RET allelic series, and its genotype-phenotype correlations, \\nshows that success in variant identification in complex disorders may strongly \\ndepend on which patients are studied.\\nHirschsprung\\'s disease is characterized by the absence of ganglion cells in the \\nmyenteric and submucosal plexuses of the gastrointestinal tract. Genetic \\ndissection was successful as nine genes and four loci for Hirschsprung\\'s disease \\nsusceptibility were identified. Different approaches were used to find these \\nloci such as classical linkage in large families, identity by descent mapping in \\nan inbred kindred, candidate gene approaches based on naturally occurring mutant \\nmice models, and finally the use of model-free linkage and association analyzes. \\nIn this study, we review the identification of genes and loci involved in the \\nnon-syndromic common form and syndromic Mendelian forms of Hirschsprung\\'s \\ndisease. The majority of the identified genes are related to Mendelian syndromic \\nforms of Hirschsprung\\'s disease. The non-Mendelian inheritance of sporadic \\nnon-syndromic Hirschsprung\\'s disease proved to be complex; involvement of \\nmultiple loci was demonstrated in a multiplicative model. We discuss the \\npractical implications of the elucidation of genes associated with \\nHirschsprung\\'s disease susceptibility for genetic counseling. Finally, we \\nspeculate on possible strategies to identify new genes for Hirschsprung\\'s \\ndisease.\\nHirschsprung\\'s disease (HSCR) is a fairly frequent cause of intestinal \\nobstruction in children. It is characterized as a sex-linked heterogonous \\ndisorder with variable severity and incomplete penetrance giving rise to a \\nvariable pattern of inheritance. Although Hirschsprung\\'s disease occurs as an \\nisolated phenotype in at least 70% of cases, it is not infrequently associated \\nwith a number of congenital abnormalities and associated syndromes, \\ndemonstrating a spectrum of congenital anomalies. Certain of these syndromic \\nphenotypes have been linked to distinct genetic sites, indicating underlying \\ngenetic associations of the disease and probable gene-gene interaction, in its \\npathogenesis. These associations with HSCR include Down\\'s syndrome and other \\nchromosomal anomalies, Waardenburg syndrome and other Dominant sensorineural \\ndeafness, the Congenital Central Hypoventilation and Mowat-Wilson and other \\nbrain-related syndromes, as well as the MEN2 and other tumour associations. A \\nnumber of other autosomal recessive syndromes include the Shah-Waardenburg, the \\nBardet-Biedl and Cartilage-hair hypoplasia, Goldberg-Shprintzen syndromes and \\nother syndromes related to cholesterol and fat metabolism among others. The \\ngenetics of Hirschsprung\\'s disease are highly complex with the majority of known \\ngenetic sites relating to the main susceptibility pathways (RET an EDNRB). \\nNon-syndromic non-familial, short-segment HSCR appears to represent a \\nnon-Mendelian condition with variable expression and sex-dependent penetrance. \\nSyndromic and familial forms, on the other hand, have complex patterns of \\ninheritance and being reported as autosomal dominant, recessive and polygenic \\npatterns of inheritance. The phenotypic variability and incomplete penetrance \\nobserved in Hirschsprung\\'s disease could also be explained by the involvement of \\nmodifier genes, especially in its syndromic forms. In this review, we look at \\nthe chromosomal and Mendelian associations and their underlying signalling \\npathways, to obtain a better understanding of the pathogenetic mechanisms \\ninvolved in developing aganglionosis of the distal bowel.\\nHirschsprung disease (HSCR), or congenital intestinal aganglionosis, is a common \\nhereditary disorder causing intestinal obstruction, thereby showing considerable \\nphenotypic variation in conjunction with complex inheritance. Moreover, \\nphenotypic assessment of the disease has been complicated since a subset of the \\nobserved mutations is also associated with several additional syndromic \\nanomalies. Coding sequence mutations in e.g. RET, GDNF, EDNRB, EDN3, and SOX10 \\nlead to long-segment (L-HSCR) as well as syndromic HSCR but fail to explain the \\ntransmission of the much more common short-segment form (S-HSCR). Furthermore, \\nmutations in the RET gene are responsible for approximately half of the familial \\nand some sporadic cases, strongly suggesting, on the one hand, the importance of \\nnon-coding variations and, on the other hand, that additional genes involved in \\nthe development of the enteric nervous system still await their discovery. For \\nalmost all of the identified HSCR genes incomplete penetrance of the HSCR \\nphenotype has been reported, probably due to modifier loci. Therefore, HSCR has \\nbecome a model for a complex oligo-/polygenic disorder in which the relationship \\nbetween different genes creating a non-mendelian inheritance pattern still \\nremains to be elucidated.'},\n",
       " Dataset({\n",
       "     features: ['question', 'answer', 'relevant_passage_ids', 'id', 'context'],\n",
       "     num_rows: 4719\n",
       " }))"
      ]
     },
     "execution_count": 17,
     "metadata": {},
     "output_type": "execute_result"
    }
   ],
   "source": [
    "def build_context(ex):\n",
    "  contexts = []\n",
    "  for each in eval(ex[\"relevant_passage_ids\"]):\n",
    "    ctx = id_to_corpus[each]\n",
    "    if ctx != \"nan\":\n",
    "      contexts.append(ctx)\n",
    "  #contexts = corpus.filter(lambda x: x[\"id\"] in eval(ex[\"relevant_passage_ids\"]))[\"passage\"]\n",
    "  return {\"context\": \"\\n\".join(contexts)}\n",
    "new_dataset = dataset.map(build_context)\n",
    "new_dataset[0], new_dataset"
   ]
  },
  {
   "cell_type": "code",
   "execution_count": 18,
   "metadata": {},
   "outputs": [
    {
     "data": {
      "text/plain": [
       "4297"
      ]
     },
     "execution_count": 18,
     "metadata": {},
     "output_type": "execute_result"
    }
   ],
   "source": [
    "from collections import Counter\n",
    "\n",
    "\n",
    "len(Counter(new_dataset[\"context\"]))"
   ]
  },
  {
   "cell_type": "code",
   "execution_count": 19,
   "metadata": {},
   "outputs": [
    {
     "name": "stdout",
     "output_type": "stream",
     "text": [
      "4197 100\n"
     ]
    }
   ],
   "source": [
    "from collections import Counter\n",
    "\n",
    "n_contexts_for_raft = 100\n",
    "unique_contexts = Counter(new_dataset[\"context\"])\n",
    "count = 0\n",
    "raft_train_ctx = []\n",
    "raft_test_ctx = []\n",
    "for k, v in unique_contexts.items():\n",
    "  if v > 0 and count < n_contexts_for_raft:\n",
    "    count += 1\n",
    "    raft_train_ctx.append(k)\n",
    "  else:\n",
    "    raft_test_ctx.append(k)\n",
    "\n",
    "print(len(raft_test_ctx), len(raft_train_ctx))\n",
    "\n",
    "#raft_train_ctx = unique_contexts[:100]\n",
    "#raft_test_ctx = unique_contexts[100:]"
   ]
  },
  {
   "cell_type": "code",
   "execution_count": 16,
   "metadata": {},
   "outputs": [
    {
     "name": "stderr",
     "output_type": "stream",
     "text": [
      "Filter: 100%|██████████| 4719/4719 [00:00<00:00, 21606.32 examples/s]\n"
     ]
    },
    {
     "data": {
      "text/plain": [
       "Dataset({\n",
       "    features: ['question', 'answer', 'relevant_passage_ids', 'id', 'context'],\n",
       "    num_rows: 4288\n",
       "})"
      ]
     },
     "execution_count": 16,
     "metadata": {},
     "output_type": "execute_result"
    }
   ],
   "source": [
    "test_dataset = new_dataset.filter(lambda x: x[\"context\"] in raft_test_ctx)\n",
    "test_dataset"
   ]
  },
  {
   "cell_type": "code",
   "execution_count": 20,
   "metadata": {},
   "outputs": [
    {
     "data": {
      "text/plain": [
       "Dataset({\n",
       "    features: ['index', 'question', 'answer', 'relevant_passage_ids', 'id', 'context'],\n",
       "    num_rows: 4197\n",
       "})"
      ]
     },
     "execution_count": 20,
     "metadata": {},
     "output_type": "execute_result"
    }
   ],
   "source": [
    "from datasets import Dataset\n",
    "\n",
    "test_dataset_unique_ctx = test_dataset.to_pandas()\n",
    "test_dataset_unique_ctx = test_dataset_unique_ctx.groupby(\"context\").head(1).reset_index()\n",
    "test_dataset_unique_ctx = Dataset.from_pandas(test_dataset_unique_ctx)\n",
    "test_dataset_unique_ctx"
   ]
  },
  {
   "cell_type": "code",
   "execution_count": 21,
   "metadata": {},
   "outputs": [
    {
     "name": "stderr",
     "output_type": "stream",
     "text": [
      "Map: 100%|██████████| 4197/4197 [00:00<00:00, 5001.89 examples/s]\n",
      "Creating parquet from Arrow format: 100%|██████████| 5/5 [00:00<00:00, 27.73ba/s]\n",
      "Uploading the dataset shards: 100%|██████████| 1/1 [00:05<00:00,  5.02s/it]\n"
     ]
    },
    {
     "data": {
      "text/plain": [
       "CommitInfo(commit_url='https://huggingface.co/datasets/phatvo/rag-mini-bioasq-raft-test/commit/8530525f217851d1392cbde0ddc04c8b42c3ca49', commit_message='Upload dataset', commit_description='', oid='8530525f217851d1392cbde0ddc04c8b42c3ca49', pr_url=None, pr_revision=None, pr_num=None)"
      ]
     },
     "execution_count": 21,
     "metadata": {},
     "output_type": "execute_result"
    }
   ],
   "source": [
    "# Dataset for evaluation raft\n",
    "\n",
    "# 1070\n",
    "# \n",
    "uploaded_dataset_id = \"phatvo/rag-mini-bioasq-raft-test\"\n",
    "\n",
    "test_dataset_unique_ctx.map(lambda x: {\"context\": ' '.join(x[\"context\"].split())}).push_to_hub(uploaded_dataset_id, split=\"test\")\n",
    "#test_dataset_unique_ctx.push_to_hub(uploaded_dataset_id, split=\"test_unique_ctx\", private=True)"
   ]
  },
  {
   "cell_type": "code",
   "execution_count": 22,
   "metadata": {},
   "outputs": [],
   "source": [
    "def save_context_to_file(data:list, filepath):\n",
    "  with open(filepath, \"w\") as f:\n",
    "    _data = [each.replace(\"\\n\", \"\") for each in data]\n",
    "    _data = [' '.join(each.split()) for each in data]\n",
    "    f.write(\"\\n\".join(_data) + \"\\n\")\n",
    "\n",
    "save_context_to_file(raft_train_ctx, \"../data/context_for_generate_bioasq.txt\")"
   ]
  },
  {
   "cell_type": "code",
   "execution_count": 23,
   "metadata": {},
   "outputs": [
    {
     "name": "stdout",
     "output_type": "stream",
     "text": [
      "100\n"
     ]
    }
   ],
   "source": [
    "with open(\"../data/context_for_generate_bioasq.txt\", \"r\") as f:\n",
    "  print(len(f.readlines()))"
   ]
  },
  {
   "cell_type": "code",
   "execution_count": 16,
   "metadata": {},
   "outputs": [
    {
     "data": {
      "text/plain": [
       "'\\n\\npython3 raft.py     --datapath \"data/context_for_generate_cuad.txt\"     --output \"tmp/cuad-test-50-raft\"     --distractors 3     --doctype txt     --chunk_size 512     --questions 1     --openai_key $OPENAI_KEY     --completion_model gpt-4o     --splitter breakline --p 0.95\\n\\n'"
      ]
     },
     "execution_count": 16,
     "metadata": {},
     "output_type": "execute_result"
    }
   ],
   "source": [
    "\"\"\"\n",
    "\n",
    "python3 raft.py \\\n",
    "    --datapath \"data/context_for_generate_bioasq.txt\" \\\n",
    "    --output \"tmp/bioasq-test-100-raft\" \\\n",
    "    --distractors 3 \\\n",
    "    --doctype txt \\\n",
    "    --chunk_size 512 \\\n",
    "    --questions 1 \\\n",
    "    --openai_key $OPENAI_KEY \\\n",
    "    --completion_model gpt-4o \\\n",
    "    --splitter breakline --p 0.95\n",
    "\n",
    "\"\"\""
   ]
  },
  {
   "cell_type": "code",
   "execution_count": null,
   "metadata": {},
   "outputs": [],
   "source": [
    "# $env:OPENAI_KEY="
   ]
  },
  {
   "cell_type": "code",
   "execution_count": 24,
   "metadata": {},
   "outputs": [
    {
     "name": "stderr",
     "output_type": "stream",
     "text": [
      "Generating train split: 99 examples [00:00, 3992.46 examples/s]\n",
      "Map: 100%|██████████| 99/99 [00:00<00:00, 1511.06 examples/s]\n"
     ]
    },
    {
     "data": {
      "text/plain": [
       "DatasetDict({\n",
       "    train: Dataset({\n",
       "        features: ['id', 'type', 'question', 'context', 'oracle_context', 'cot_answer', 'instruction', 'text'],\n",
       "        num_rows: 99\n",
       "    })\n",
       "})"
      ]
     },
     "execution_count": 24,
     "metadata": {},
     "output_type": "execute_result"
    }
   ],
   "source": [
    "from datasets import load_dataset\n",
    "\n",
    "ds = load_dataset(\"json\", data_files=\"../tmp/bioasq-test-100-raft.jsonl\", )\n",
    "ds = ds.map(lambda x: {\"text\": f\"{x['instruction']}\\nCoT Answer: {x['cot_answer']}\"})\n",
    "ds"
   ]
  },
  {
   "cell_type": "code",
   "execution_count": 25,
   "metadata": {},
   "outputs": [
    {
     "name": "stderr",
     "output_type": "stream",
     "text": [
      "Creating parquet from Arrow format: 100%|██████████| 1/1 [00:00<00:00, 18.64ba/s]\n",
      "Uploading the dataset shards: 100%|██████████| 1/1 [00:04<00:00,  4.06s/it]\n"
     ]
    },
    {
     "data": {
      "text/plain": [
       "CommitInfo(commit_url='https://huggingface.co/datasets/phatvo/rag-mini-bioasq-100-raft/commit/c7aa7e752af3ec1310fde2182a3f507512071839', commit_message='Upload dataset', commit_description='', oid='c7aa7e752af3ec1310fde2182a3f507512071839', pr_url=None, pr_revision=None, pr_num=None)"
      ]
     },
     "execution_count": 25,
     "metadata": {},
     "output_type": "execute_result"
    }
   ],
   "source": [
    "ds.push_to_hub(\"phatvo/rag-mini-bioasq-100-raft\")"
   ]
  }
 ],
 "metadata": {
  "kernelspec": {
   "display_name": "py10",
   "language": "python",
   "name": "python3"
  },
  "language_info": {
   "codemirror_mode": {
    "name": "ipython",
    "version": 3
   },
   "file_extension": ".py",
   "mimetype": "text/x-python",
   "name": "python",
   "nbconvert_exporter": "python",
   "pygments_lexer": "ipython3",
   "version": "undefined.undefined.undefined"
  }
 },
 "nbformat": 4,
 "nbformat_minor": 2
}
