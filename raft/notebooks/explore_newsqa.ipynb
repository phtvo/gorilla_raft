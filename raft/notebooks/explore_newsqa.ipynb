{
 "cells": [
  {
   "cell_type": "code",
   "execution_count": 3,
   "metadata": {},
   "outputs": [],
   "source": [
    "import json\n",
    "from datasets import load_dataset\n",
    "import numpy as np\n",
    "\n",
    "dataset_id = \"phatvo/newsqa\"\n",
    "\n",
    "dataset = load_dataset(dataset_id, data_files=\"test.csv\")"
   ]
  },
  {
   "cell_type": "code",
   "execution_count": 2,
   "metadata": {},
   "outputs": [
    {
     "data": {
      "text/plain": [
       "DatasetDict({\n",
       "    train: Dataset({\n",
       "        features: ['story_id', 'story_text', 'question', 'answer_token_ranges'],\n",
       "        num_rows: 5126\n",
       "    })\n",
       "})"
      ]
     },
     "execution_count": 2,
     "metadata": {},
     "output_type": "execute_result"
    }
   ],
   "source": [
    "dataset"
   ]
  },
  {
   "cell_type": "code",
   "execution_count": 13,
   "metadata": {},
   "outputs": [
    {
     "data": {
      "text/plain": [
       "{'story_id': './cnn/stories/289a45e715707cf650352f3eaa123f85d3653d4b.story',\n",
       " 'story_text': \"-LRB- CNN -RRB- -- Comcast rolled out a Web-based on-demand television and movie service on Tuesday that gives customers access to more than 2,000 hours of television and movies . The move comes as users increasingly are bypassing their TV sets and heading straight to the Web -- both legally and illegally -- to watch their favorite shows . The service , named Fancast XFINITY TV -LRB- formerly called TV Everywhere -RRB- , is the biggest cable industry initiative to keep people from skipping traditional TV service in the United States . `` I watch TV online every day . I find it more convenient than my regular TV ... , '' Michael Heard , a self-employed computer repairman from Atlanta , Georgia , said via e-mail . `` I 'm usually watching TV on one window while reading e-mail or tweets on another . `` And also my time is important , so sitting down and watching a show at 8 or 9 p.m. is n't convenient . Online TV allows me to watch what I want when I want . '' Networks have tried for the past couple of years to find a way to reach Web-watching audiences by streaming content on their Web sites or making partnerships with Hulu , one of the larger online TV sites . Now , Comcast is hoping it can make a dent in the market by serving up premium content . It is available to all Comcast customers , so long as they subscribe to both Internet and Cable service . Heard said he does n't expect to give up Hulu , though many of the same episodes and Web clips will be available on Fancast . Heard , trying out the site Tuesday after it went live , tweeted that he thought the service was `` awesome , '' and he finally had a place where he could watch the entire series of `` The Sopranos . '' `` The quality , it 's really clear and loads fast , '' he said , though he noted there were still some bugs in the product . Heard occasionally had to reload the site , and felt that installing the video player and authorizing the computer took a bit more time and was harder than simply pressing play on Hulu . The service is getting mixed reviews on Twitter , with customers giving instant feedback about their experiences . Some complained that high-definition videos , which are available on Hulu , are not available on Comcast 's service . Others complained about having to download a separate video player , the service not being compatible with the Linux operating system , and only being able to authorize the service on a total of three computers . Comcast hopes to wow customers even more in the future . In the next six months , after the service has gone through more beta testing , the company plans to open the service to a broader customer base . Customers will be able to access all content -- depending on the tiered level of service they subscribe to . Those not paying for HBO regularly , for example , wo n't be able to snag the newest episode of `` Curb Your Enthusiasm '' online . In addition to catching up with sites like Hulu and Clicker , Comcast executives told media outlets they expect to serve up a feature that Tivo fans have come to love -- allowing customers to program their DVR from afar . Executives said they hope the service would be available in about six months . To access the content , users simply need to log in with their Comcast e-mail address at fancast.com . The site is offering live online help , including help retrieving those addresses .\",\n",
       " 'question': 'What is going live on Tuesday ?',\n",
       " 'answer_token_ranges': '8:14',\n",
       " 'answer': 'Web-based on-demand television and movie service'}"
      ]
     },
     "execution_count": 13,
     "metadata": {},
     "output_type": "execute_result"
    }
   ],
   "source": [
    "def _get_text_answer(doc):\n",
    "    text, _range = doc[\"story_text\"], doc[\"answer_token_ranges\"]\n",
    "    _range = _range.split(\",\")[0]\n",
    "    st, end = [int(each) for each in _range.split(\":\")]\n",
    "    tokens = text.split(\" \")\n",
    "    ground_truth = \" \".join(tokens[st:end])\n",
    "\n",
    "    return {\"answer\": ground_truth}\n",
    "\n",
    "\n",
    "dataset = dataset.map(_get_text_answer)\n",
    "dataset[\"train\"][0]"
   ]
  },
  {
   "cell_type": "code",
   "execution_count": 30,
   "metadata": {},
   "outputs": [
    {
     "name": "stdout",
     "output_type": "stream",
     "text": [
      "806 100\n"
     ]
    }
   ],
   "source": [
    "from collections import Counter\n",
    "\n",
    "unique_contexts = Counter(dataset[\"train\"][\"story_text\"])\n",
    "count = 0\n",
    "raft_train_ctx = []\n",
    "raft_test_ctx = []\n",
    "for k, v in unique_contexts.items():\n",
    "  if v > 5 and count < 100:\n",
    "    count += 1\n",
    "    raft_train_ctx.append(k)\n",
    "  else:\n",
    "    raft_test_ctx.append(k)\n",
    "\n",
    "print(len(raft_test_ctx), len(raft_train_ctx))\n",
    "\n",
    "#raft_train_ctx = unique_contexts[:100]\n",
    "#raft_test_ctx = unique_contexts[100:]"
   ]
  },
  {
   "cell_type": "code",
   "execution_count": 31,
   "metadata": {},
   "outputs": [
    {
     "name": "stderr",
     "output_type": "stream",
     "text": [
      "Filter: 100%|██████████| 5126/5126 [00:00<00:00, 65078.36 examples/s]\n"
     ]
    },
    {
     "data": {
      "text/plain": [
       "Dataset({\n",
       "    features: ['story_id', 'story_text', 'question', 'answer_token_ranges', 'answer'],\n",
       "    num_rows: 4224\n",
       "})"
      ]
     },
     "execution_count": 31,
     "metadata": {},
     "output_type": "execute_result"
    }
   ],
   "source": [
    "test_dataset = dataset[\"train\"].filter(lambda x: x[\"story_text\"] in raft_test_ctx)\n",
    "test_dataset"
   ]
  },
  {
   "cell_type": "code",
   "execution_count": 36,
   "metadata": {},
   "outputs": [],
   "source": [
    "def save_context_to_file(data:list, filepath):\n",
    "  with open(filepath, \"w\") as f:\n",
    "    f.write(\"\\n\".join(data) + \"\\n\")\n",
    "\n",
    "save_context_to_file(raft_train_ctx, \"../data/context_for_generate_newsqa.txt\")"
   ]
  },
  {
   "cell_type": "code",
   "execution_count": 34,
   "metadata": {},
   "outputs": [
    {
     "name": "stderr",
     "output_type": "stream",
     "text": [
      "Creating parquet from Arrow format: 100%|██████████| 5/5 [00:00<00:00, 20.48ba/s]\n",
      "Uploading the dataset shards: 100%|██████████| 1/1 [00:03<00:00,  3.95s/it]\n",
      "c:\\Users\\vohun\\anaconda3\\envs\\py10\\lib\\site-packages\\huggingface_hub\\file_download.py:159: UserWarning: `huggingface_hub` cache-system uses symlinks by default to efficiently store duplicated files but your machine does not support them in C:\\Users\\vohun\\.cache\\huggingface\\hub\\datasets--phatvo--newsqa. Caching files will still work but in a degraded version that might require more space on your disk. This warning can be disabled by setting the `HF_HUB_DISABLE_SYMLINKS_WARNING` environment variable. For more details, see https://huggingface.co/docs/huggingface_hub/how-to-cache#limitations.\n",
      "To support symlinks on Windows, you either need to activate Developer Mode or to run Python as an administrator. In order to see activate developer mode, see this article: https://docs.microsoft.com/en-us/windows/apps/get-started/enable-your-device-for-development\n",
      "  warnings.warn(message)\n"
     ]
    },
    {
     "data": {
      "text/plain": [
       "CommitInfo(commit_url='https://huggingface.co/datasets/phatvo/newsqa/commit/a0b07f80b5488dfb459d95dda12391229c59dc71', commit_message='Upload dataset', commit_description='', oid='a0b07f80b5488dfb459d95dda12391229c59dc71', pr_url=None, pr_revision=None, pr_num=None)"
      ]
     },
     "execution_count": 34,
     "metadata": {},
     "output_type": "execute_result"
    }
   ],
   "source": [
    "# Dataset for evaluation raft\n",
    "\n",
    "test_dataset.push_to_hub(dataset_id, split=\"test_raft\", private=True)"
   ]
  },
  {
   "cell_type": "code",
   "execution_count": null,
   "metadata": {},
   "outputs": [],
   "source": [
    "\"\"\"\n",
    "\n",
    "python3 raft.py \\\n",
    "    --datapath \"data/context_for_generate_newsqa.txt\" \\\n",
    "    --output \"tmp/newsqa-test-100-raft2\" \\\n",
    "    --distractors 3 \\\n",
    "    --doctype txt \\\n",
    "    --chunk_size 512 \\\n",
    "    --questions 1 \\\n",
    "    --p 0.9 \\\n",
    "    --openai_key $OPENAI_KEY \\\n",
    "    --completion_model gpt-4o \\\n",
    "    --splitter breakline\n",
    "\n",
    "\"\"\""
   ]
  },
  {
   "cell_type": "code",
   "execution_count": null,
   "metadata": {},
   "outputs": [],
   "source": [
    "# $env:OPENAI_KEY="
   ]
  },
  {
   "cell_type": "code",
   "execution_count": 1,
   "metadata": {},
   "outputs": [
    {
     "name": "stderr",
     "output_type": "stream",
     "text": [
      "Generating train split: 100 examples [00:00, 3655.55 examples/s]\n",
      "Map: 100%|██████████| 100/100 [00:00<00:00, 2492.47 examples/s]\n"
     ]
    },
    {
     "data": {
      "text/plain": [
       "DatasetDict({\n",
       "    train: Dataset({\n",
       "        features: ['id', 'type', 'question', 'context', 'oracle_context', 'cot_answer', 'instruction', 'text'],\n",
       "        num_rows: 100\n",
       "    })\n",
       "})"
      ]
     },
     "execution_count": 1,
     "metadata": {},
     "output_type": "execute_result"
    }
   ],
   "source": [
    "from datasets import load_dataset\n",
    "\n",
    "ds = load_dataset(\"json\", data_files=\"../tmp/newsqa-test-100-raft2.jsonl\", )\n",
    "ds = ds.map(lambda x: {\"text\": f\"{x['instruction']}\\nCoT Answer: {x['cot_answer']}\"})\n",
    "ds"
   ]
  },
  {
   "cell_type": "code",
   "execution_count": 3,
   "metadata": {},
   "outputs": [
    {
     "data": {
      "text/plain": [
       "{'id': 'seed_task_1',\n",
       " 'type': 'general',\n",
       " 'question': 'What was the predicted passing distance of the Kosmos 1275 debris from the International Space Station?',\n",
       " 'context': {'sentences': [[\"NEW YORK -LRB- CNN -RRB- -- A pedestrian was struck twice by vehicles in Queens and dragged for 17 miles by the second vehicle before police found him dead in Brooklyn , New York City Police Commissioner Ray Kelly told reporters Wednesday . Surveillance video shows a body in the middle of the street . The badly mangled body was discovered under a van after several passing motorists motioned the driver to pull over , Kelly said . Police had not identified the victim Wednesday evening , he said . The first driver called 911 to report he thought he had struck a pedestrian but did not see anyone . It turned out the second driver , in a van , had driven over the man , whose body became lodged under its chassis , according to police . Kelly said the van driver stopped at one point during the drive on New York City 's highways and roads because he noticed the vehicle was not driving properly . But he failed to find anything unusual , Kelly said . Police are retracing the route the van drove in an attempt to find body parts , he said . No charges have been filed , Kelly told reporters Wednesday afternoon .\",\n",
       "    \"-LRB- CNN -RRB- -- NASA wo n't have to maneuver the international space station to dodge a piece of debris from a Soviet-era satellite spinning around Earth , the space agency announced Monday . NASA says debris wo n't threaten the international space station , seen here from Endeavour in November 2008 . Mission controllers at the Johnson Space Center in Houston warned earlier that a piece of the Kosmos 1275 was to pass about 1/2 mile from the space station early Tuesday morning . But after further study , NASA determined no evasive action would be needed , said Paul Dye , flight director for the space shuttle Discovery , which is en route to the station . `` The latest tracking information showed it is outside of our area of concern , so the station is going to be right where we expected it to be , '' Dye told reporters at the Johnson Space Center in Houston , Texas . Discovery lifted off from Florida on Sunday for a scheduled docking at 5:13 p.m. ET Tuesday . The spacecraft is not threatened by the debris , said LeRoy Cain , the shuttle program 's deputy manager . The dimensions of the satellite debris were not known Monday . The object was expected to pass `` on the fringes '' of the 2 km-by-25 km-by-25 km -LRB- 1.25 mile-by-15 mile-by-15 mile -RRB- safety zone controllers monitor , Dye said . `` It 's a very low probability of hit -- less than one in 100,000 , '' he said . The space shuttle Discovery is currently headed toward the station for a scheduled docking Tuesday , but the spacecraft is not threatened by the debris , said LeRoy Cain , the shuttle program 's deputy manager . Last week , a piece of debris forced the space station 's current crew -- astronauts Mike Fincke and Sandy Magnus , and cosmonaut Yury Lonchakov -- to take shelter in its escape capsule , a rare close call for the orbiting platform , NASA said . That object , a chunk of metal from a satellite rocket motor used on an earlier space mission , was about 5 inches across , and moving at nearly 20,000 mph . It passed within 3 miles of the station early Thursday afternoon and was detected too late for the station to maneuver out of the way , controllers said . iReport.com : See , share your photos of launches and space Cain called the prospect of two close passes in less than a week a `` random '' occurrence , but said controllers have frequently had to maneuver around pieces of orbital junk . `` It 's part of the business , '' he said . `` It comes with the territory , and we 'll continue to do whatever 's necessary to avoid debris . '' CNN 's John Zarrella contributed to this report .\",\n",
       "    \"-LRB- CNN -RRB- -- Environmental saviors can turn up in the most unexpected places . For the answer to our global waste management crisis , we need only look as far as our back gardens , for example . Forty million manure worms are being put to use in Sydney to treat its sewage . That 's what proponents of vermicomposting will tell us , anyway . Vermicomposting is the art of composting using worms -- and it is worms , apparently , who could save us yet . Worms are nature 's waste disposal units . Or rather , it is more accurate to call them waste renewal units , as they do n't simply consume the waste -- they turn it into something far more useful : nutrient-rich compost . Earthworms are by any definition incredible creatures -- particularly , in this context : The Eisenia foetida and Lumbricus rubellus , which are the two breeds of worm commonly used in vermicomposting , according to CityFarmer.org . Not only can they eat their own body weight in organic waste every day , but they actually remove -- or neutralize -- many of the toxins in that waste in the process , according to The Ecologist . There are a lot of them , too . You will find as many as 1 million earthworms in just 1 acre of land , according to NatureWatch , their population doubling in size every one-two months . And they work hard -- 1 million worms will get through 10 tons of leaves , stems and dead roots in one year , ploughing 40 tons of soil in the process . What they end up producing is ready-to-go plant soluble nutrients . According to NatureWatch , earthworm castings have five times as much nitrogen , seven times as much phosphorous , 11 times as much potassium and 1,000 times more `` beneficial bacteria '' than the stuff the worm consumes in the first place . Literally speaking , what goes in is far less valuable than what comes out . Utilizing ` black gold ' It is no surprise why these worms ' byproducts are often referred to as `` black gold , '' this knowledge being particularly pertinent at a time when nearly 40 percent of the world 's agricultural soil has become `` seriously degraded , '' according to the UK Soil Association . Worm compost : Just one pound of worms can turn 1.3 million pounds of raw manure into high quality fertilizer in around 60 days , according to ScienceDaily . And plants love it . Research has shown that plant yields experience a significant boost from vermicomposting , by as much as 40 percent for broccoli , 80 percent for tomatoes and as much as 259 percent for carrots , according to The Ecologist . According to the World Waste Survey , compiled by Veolia Environmental Services , we generated at least 1.2 billion metric tons of municipal waste in 2004 . And a high proportion of that waste was organic matter which could have been composted . Around 32 percent of the European Union 's annual municipal waste -LRB- around 120 million tons -RRB- is food and garden waste , according to Waste Management World . And 30 percent of U.S. waste could have been composted in 2000 , according to the U.S. Environmental Protection Agency -LRB- EPA -RRB- -- representing 92 million tons of organic waste that otherwise sat rotting on a landfill , emitting methane into the atmosphere . As local governments and companies grapple with the issue of how to safely dispose of waste , vermicomposting is finding new fans -- some in unusual places . In Hong Kong , none other than fast-food chain McDonald 's has signed up to a vermicomposting program that will have 80 million worms feasting on between 50 and 200 tons of organic waste a day , according to the Reuters news service . McDonald 's aims to decrease the amount of waste it sends to Hong Kong 's rapidly filling landfills by 80 percent , Reuters reports . Other companies to have experimented with worm composting include Ikea in the U.S. state of Illinois , where , according to Treehugger.com , it is conducting vermicomposting trials . If all goes well , it aims to use worm composting to boost its 70 percent recycling rates to 90 percent , the site says . As it happens , we have had this knowledge for centuries . Aristotle himself was even said to have called worms the `` intestines of the soil , '' according to The New York Times , which also points out that Cleopatra was another devotee , bestowing sacred status on them and ordering them protected . Charles Darwin admired their land-tilling abilities so much that he wrote a book on them . `` It may be doubted whether there are many other animals which have played so important a part in the history of the world as have these lowly organized creatures , '' he mused , according to The New York Times . Greenhouse gas emitters What Darwin , Cleopatra or Aristotle could not have known however , is that worms could also have the potential to save us from toxic waste . Scientists in India have found that worms ' digestive systems and regenerative abilities are so remarkable that they can actually absorb toxic materials yet expel toxic-free manure . According to the Indian newspaper , India Together , researchers in Gujarat have found that worms can `` detox '' the organic parts of the industrial sludge which results from the effluent treatment of industrial or hazardous waste . The method is ideal for industries -- such as paper , food processing , oil , textiles , dairy , distilleries and agro-chemicals -- where there is large enough organic components in the industrial sludge , Indian researchers say . But even with vermicomposting , something that looks like one of the most environmentally sound ideas around , there 's a downside -- and it 's a rather large one . It turns out that worms used in composting emit a greenhouse gas -- nitrous oxide -- which is hundreds of times more powerful than carbon dioxide . Unfortunately , in terms of greenhouse gas emissions , large-scale composting plants could be just as damaging to the environment as landfills of the same size , reports the UK 's Telegraph newspaper . `` The emissions that come from these worms can actually be 290 times more potent than carbon dioxide and 20 times more potent than methane , '' the Telegraph quotes Jim Frederickson , an Open University research fellow . `` In all environmental systems you get good points and bad points . '' E-mail to a friend -LRB- Sources : CityFarmer.org , The Ecologist , NatureWatch , U.S. Environmental Protection Agency , Veolia Environmental Services , Soil Association , Waste Management World , New York Times , Reuters , ScienceDaily , Treehugger.com , Telegraph , India Together -RRB-\",\n",
       "    \"Editor 's note : The U.S. Marshals Service last week launched one of the largest weeklong fugitive sweeps in the southeastern United States . CNN takes you inside the operation . Authorities received a tip that a convicted child molester was living here . He was captured at a hardware store . ATLANTA , Georgia -LRB- CNN -RRB- -- The trail for the convicted child molester seemed to grow cold as the police combed his empty apartment . James Maurice Robinson , 25 , a confessed sex offender , had been on the run for more than two years , and it looked as if he would elude capture yet again . The authorities huddled in a nearby parking lot to discuss Plan B , an air of disgust hanging over them . James Ergas , the U.S. Marshal helping to lead this operation , acts on a tip . He pulls out his cell phone and calls a hardware store where the suspect may be working . Using a ruse , he begins speaking to the manager and , at one point , Robinson himself gets on the phone and unknowingly talks to the very man trying to catch him . Gotcha ! Authorities now know exactly where their man is . He 's seven miles away , on the other side of town . It 's 11:02 a.m. Ergas guns his unmarked sport utility vehicle at 95 miles per hour through downtown Atlanta , zipping in and out of the city 's notorious traffic congestion . Hear cops bang door , see raid on a home : `` Get down ! '' '' `` I 've got no place in my heart for pedophiles , '' he says , pressing down harder on the gas . The vehicle thrusts forward . Ten minutes later , he whips his SUV into the store 's parking lot . The suspect 's car , a burgundy , four-door Pontiac Grand Am , sits near a back stairwell . `` When we go in there , he 's going to run out the back , '' Ergas says . He parks near the front of the building and alerts his backup . Within minutes , the full team arrives . Two take position near the back stairwell . Ergas and other team members , dressed in black flak jackets , enter the front door at 11:19 a.m. Robinson does n't have a chance . He tries to run , but slips . Ergas points his Taser and prepares to zap him . Robinson knows his gig is up . He surrenders peacefully . `` He saw the Taser , '' Ergas says , with a smile . `` Nobody wants to be Tased . '' More than 100 miles away , the man who first arrested Robinson in March 2004 gets word of the capture . `` Anytime we can get a pervert off the street like that , it 's going to make me happy , '' said Robert Tate , a detective with the LaFayette Police Department in northwest Georgia , near the Tennessee border . Robinson had been accused of exposing himself to a 10-year-old boy in a Wal-Mart bathroom and masturbating in front of him . Police records indicate the boy was so petrified he was afraid to leave the stall for 15 minutes afterward . Robinson pleaded guilty to one count of child molestation on May 26 , 2005 , according to the Walker County District Attorney 's Office . But he skipped town and never made his sentencing hearing on February 14 , 2006 , authorities said . A warrant was then issued for his arrest . Robinson now faces five to 20 years in prison , the DA 's office said . Robinson was one of 1,250 fugitives busted in Georgia last week as part of Operation Falcon , a nationwide sweep to arrest some of the most violent offenders . Of the arrests in Georgia , 724 came in metro Atlanta ; two were suspected killers , authorities said . Multiple sweeps like these have already taken place in other cities in recent weeks as part of Falcon . More are coming to undisclosed regions of the country . Authorities would not release further details about the nationwide hunt due to the ongoing nature of the operation . `` Our primary focus when we do this operation are violent offenders , sex offenders and gang members , '' says Keith Booker , the commander of the U.S. Marshals Southeast Regional Fugitive Task Force leading this sweep that included 115 federal , state and local agencies . The fugitives were wanted on felony charges ranging from murder and aggravated assault to rape and armed robbery to child molestation and an array of parole violations . On this day , while Ergas and his eight - to 10-member team hit multiple spots where fugitives were believed to be living , another 150 agents , investigators , detectives , officers and deputies were working other parts of metro Atlanta . Of the 700-plus arrests made around Atlanta , authorities smashed through 154 doors . Not every suspect was captured , but the hunt generated leads that will be followed up . The work involved grueling and dangerous 14 - to 18-hour days , but the officers still found time to laugh . There was one who Tasered himself while running after a suspect , and another who held up a bag of oregano thinking it was pot and quizzed his subjects . Both provided fodder for the watercooler . Then , there was the suspect wanted for aggravated assault who authorities said tried to jump over a 30-foot wall , breaking several bones when he landed . `` He did n't want to go to jail . Instead , he went to jail crippled , '' Ergas said . The police kept close tabs on the six different teams ' arrests , an internal competition to see who could bag more wanted felons . Team Vulture beat out Team Osprey with 147 arrests to 132 . At the end of the operation , about 80 officers crowded into a large conference room and were briefed on the final results . `` You prevented a lot of victims this week , '' Booker told them . Law enforcement studies , he said , indicate the typical fugitive commits an average of 13 crimes while they 're on the run . If that 's true , more than 15,000 potential victims have been spared . `` These people ca n't commit crimes against other people while they 're locked up , '' Booker said .\"]],\n",
       "  'title': [['placeholder_title',\n",
       "    'placeholder_title',\n",
       "    'placeholder_title',\n",
       "    'placeholder_title']]},\n",
       " 'oracle_context': \"-LRB- CNN -RRB- -- NASA wo n't have to maneuver the international space station to dodge a piece of debris from a Soviet-era satellite spinning around Earth , the space agency announced Monday . NASA says debris wo n't threaten the international space station , seen here from Endeavour in November 2008 . Mission controllers at the Johnson Space Center in Houston warned earlier that a piece of the Kosmos 1275 was to pass about 1/2 mile from the space station early Tuesday morning . But after further study , NASA determined no evasive action would be needed , said Paul Dye , flight director for the space shuttle Discovery , which is en route to the station . `` The latest tracking information showed it is outside of our area of concern , so the station is going to be right where we expected it to be , '' Dye told reporters at the Johnson Space Center in Houston , Texas . Discovery lifted off from Florida on Sunday for a scheduled docking at 5:13 p.m. ET Tuesday . The spacecraft is not threatened by the debris , said LeRoy Cain , the shuttle program 's deputy manager . The dimensions of the satellite debris were not known Monday . The object was expected to pass `` on the fringes '' of the 2 km-by-25 km-by-25 km -LRB- 1.25 mile-by-15 mile-by-15 mile -RRB- safety zone controllers monitor , Dye said . `` It 's a very low probability of hit -- less than one in 100,000 , '' he said . The space shuttle Discovery is currently headed toward the station for a scheduled docking Tuesday , but the spacecraft is not threatened by the debris , said LeRoy Cain , the shuttle program 's deputy manager . Last week , a piece of debris forced the space station 's current crew -- astronauts Mike Fincke and Sandy Magnus , and cosmonaut Yury Lonchakov -- to take shelter in its escape capsule , a rare close call for the orbiting platform , NASA said . That object , a chunk of metal from a satellite rocket motor used on an earlier space mission , was about 5 inches across , and moving at nearly 20,000 mph . It passed within 3 miles of the station early Thursday afternoon and was detected too late for the station to maneuver out of the way , controllers said . iReport.com : See , share your photos of launches and space Cain called the prospect of two close passes in less than a week a `` random '' occurrence , but said controllers have frequently had to maneuver around pieces of orbital junk . `` It 's part of the business , '' he said . `` It comes with the territory , and we 'll continue to do whatever 's necessary to avoid debris . '' CNN 's John Zarrella contributed to this report .\",\n",
       " 'cot_answer': 'To answer the question about the predicted passing distance of the Kosmos 1275 debris from the International Space Station, we need to follow these steps:\\n\\n1. Identify the specific information in the context that mentions the distance of the Kosmos 1275 debris from the International Space Station.\\n2. Look for any numerical values or descriptions related to the distance.\\n3. Ensure that the information is directly related to the Kosmos 1275 debris and not any other debris mentioned in the context.\\n\\nLet\\'s go through the context step-by-step:\\n\\n1. The context mentions that NASA initially warned about the Kosmos 1275 debris:\\n   ##begin_quote##\\n   \"Mission controllers at the Johnson Space Center in Houston warned earlier that a piece of the Kosmos 1275 was to pass about 1/2 mile from the space station early Tuesday morning.\"\\n   ##end_quote##\\n\\n2. This sentence provides a specific numerical value for the predicted passing distance:\\n   ##begin_quote##\\n   \"a piece of the Kosmos 1275 was to pass about 1/2 mile from the space station early Tuesday morning.\"\\n   ##end_quote##\\n\\n3. The context further confirms that no evasive action was needed after further study:\\n   ##begin_quote##\\n   \"But after further study, NASA determined no evasive action would be needed, said Paul Dye, flight director for the space shuttle Discovery, which is en route to the station.\"\\n   ##end_quote##\\n\\nBased on this information, we can conclude the predicted passing distance.\\n\\n<ANSWER>: about 1/2 mile',\n",
       " 'instruction': \"<DOCUMENT>NEW YORK -LRB- CNN -RRB- -- A pedestrian was struck twice by vehicles in Queens and dragged for 17 miles by the second vehicle before police found him dead in Brooklyn , New York City Police Commissioner Ray Kelly told reporters Wednesday . Surveillance video shows a body in the middle of the street . The badly mangled body was discovered under a van after several passing motorists motioned the driver to pull over , Kelly said . Police had not identified the victim Wednesday evening , he said . The first driver called 911 to report he thought he had struck a pedestrian but did not see anyone . It turned out the second driver , in a van , had driven over the man , whose body became lodged under its chassis , according to police . Kelly said the van driver stopped at one point during the drive on New York City 's highways and roads because he noticed the vehicle was not driving properly . But he failed to find anything unusual , Kelly said . Police are retracing the route the van drove in an attempt to find body parts , he said . No charges have been filed , Kelly told reporters Wednesday afternoon .</DOCUMENT>\\n<DOCUMENT>-LRB- CNN -RRB- -- NASA wo n't have to maneuver the international space station to dodge a piece of debris from a Soviet-era satellite spinning around Earth , the space agency announced Monday . NASA says debris wo n't threaten the international space station , seen here from Endeavour in November 2008 . Mission controllers at the Johnson Space Center in Houston warned earlier that a piece of the Kosmos 1275 was to pass about 1/2 mile from the space station early Tuesday morning . But after further study , NASA determined no evasive action would be needed , said Paul Dye , flight director for the space shuttle Discovery , which is en route to the station . `` The latest tracking information showed it is outside of our area of concern , so the station is going to be right where we expected it to be , '' Dye told reporters at the Johnson Space Center in Houston , Texas . Discovery lifted off from Florida on Sunday for a scheduled docking at 5:13 p.m. ET Tuesday . The spacecraft is not threatened by the debris , said LeRoy Cain , the shuttle program 's deputy manager . The dimensions of the satellite debris were not known Monday . The object was expected to pass `` on the fringes '' of the 2 km-by-25 km-by-25 km -LRB- 1.25 mile-by-15 mile-by-15 mile -RRB- safety zone controllers monitor , Dye said . `` It 's a very low probability of hit -- less than one in 100,000 , '' he said . The space shuttle Discovery is currently headed toward the station for a scheduled docking Tuesday , but the spacecraft is not threatened by the debris , said LeRoy Cain , the shuttle program 's deputy manager . Last week , a piece of debris forced the space station 's current crew -- astronauts Mike Fincke and Sandy Magnus , and cosmonaut Yury Lonchakov -- to take shelter in its escape capsule , a rare close call for the orbiting platform , NASA said . That object , a chunk of metal from a satellite rocket motor used on an earlier space mission , was about 5 inches across , and moving at nearly 20,000 mph . It passed within 3 miles of the station early Thursday afternoon and was detected too late for the station to maneuver out of the way , controllers said . iReport.com : See , share your photos of launches and space Cain called the prospect of two close passes in less than a week a `` random '' occurrence , but said controllers have frequently had to maneuver around pieces of orbital junk . `` It 's part of the business , '' he said . `` It comes with the territory , and we 'll continue to do whatever 's necessary to avoid debris . '' CNN 's John Zarrella contributed to this report .</DOCUMENT>\\n<DOCUMENT>-LRB- CNN -RRB- -- Environmental saviors can turn up in the most unexpected places . For the answer to our global waste management crisis , we need only look as far as our back gardens , for example . Forty million manure worms are being put to use in Sydney to treat its sewage . That 's what proponents of vermicomposting will tell us , anyway . Vermicomposting is the art of composting using worms -- and it is worms , apparently , who could save us yet . Worms are nature 's waste disposal units . Or rather , it is more accurate to call them waste renewal units , as they do n't simply consume the waste -- they turn it into something far more useful : nutrient-rich compost . Earthworms are by any definition incredible creatures -- particularly , in this context : The Eisenia foetida and Lumbricus rubellus , which are the two breeds of worm commonly used in vermicomposting , according to CityFarmer.org . Not only can they eat their own body weight in organic waste every day , but they actually remove -- or neutralize -- many of the toxins in that waste in the process , according to The Ecologist . There are a lot of them , too . You will find as many as 1 million earthworms in just 1 acre of land , according to NatureWatch , their population doubling in size every one-two months . And they work hard -- 1 million worms will get through 10 tons of leaves , stems and dead roots in one year , ploughing 40 tons of soil in the process . What they end up producing is ready-to-go plant soluble nutrients . According to NatureWatch , earthworm castings have five times as much nitrogen , seven times as much phosphorous , 11 times as much potassium and 1,000 times more `` beneficial bacteria '' than the stuff the worm consumes in the first place . Literally speaking , what goes in is far less valuable than what comes out . Utilizing ` black gold ' It is no surprise why these worms ' byproducts are often referred to as `` black gold , '' this knowledge being particularly pertinent at a time when nearly 40 percent of the world 's agricultural soil has become `` seriously degraded , '' according to the UK Soil Association . Worm compost : Just one pound of worms can turn 1.3 million pounds of raw manure into high quality fertilizer in around 60 days , according to ScienceDaily . And plants love it . Research has shown that plant yields experience a significant boost from vermicomposting , by as much as 40 percent for broccoli , 80 percent for tomatoes and as much as 259 percent for carrots , according to The Ecologist . According to the World Waste Survey , compiled by Veolia Environmental Services , we generated at least 1.2 billion metric tons of municipal waste in 2004 . And a high proportion of that waste was organic matter which could have been composted . Around 32 percent of the European Union 's annual municipal waste -LRB- around 120 million tons -RRB- is food and garden waste , according to Waste Management World . And 30 percent of U.S. waste could have been composted in 2000 , according to the U.S. Environmental Protection Agency -LRB- EPA -RRB- -- representing 92 million tons of organic waste that otherwise sat rotting on a landfill , emitting methane into the atmosphere . As local governments and companies grapple with the issue of how to safely dispose of waste , vermicomposting is finding new fans -- some in unusual places . In Hong Kong , none other than fast-food chain McDonald 's has signed up to a vermicomposting program that will have 80 million worms feasting on between 50 and 200 tons of organic waste a day , according to the Reuters news service . McDonald 's aims to decrease the amount of waste it sends to Hong Kong 's rapidly filling landfills by 80 percent , Reuters reports . Other companies to have experimented with worm composting include Ikea in the U.S. state of Illinois , where , according to Treehugger.com , it is conducting vermicomposting trials . If all goes well , it aims to use worm composting to boost its 70 percent recycling rates to 90 percent , the site says . As it happens , we have had this knowledge for centuries . Aristotle himself was even said to have called worms the `` intestines of the soil , '' according to The New York Times , which also points out that Cleopatra was another devotee , bestowing sacred status on them and ordering them protected . Charles Darwin admired their land-tilling abilities so much that he wrote a book on them . `` It may be doubted whether there are many other animals which have played so important a part in the history of the world as have these lowly organized creatures , '' he mused , according to The New York Times . Greenhouse gas emitters What Darwin , Cleopatra or Aristotle could not have known however , is that worms could also have the potential to save us from toxic waste . Scientists in India have found that worms ' digestive systems and regenerative abilities are so remarkable that they can actually absorb toxic materials yet expel toxic-free manure . According to the Indian newspaper , India Together , researchers in Gujarat have found that worms can `` detox '' the organic parts of the industrial sludge which results from the effluent treatment of industrial or hazardous waste . The method is ideal for industries -- such as paper , food processing , oil , textiles , dairy , distilleries and agro-chemicals -- where there is large enough organic components in the industrial sludge , Indian researchers say . But even with vermicomposting , something that looks like one of the most environmentally sound ideas around , there 's a downside -- and it 's a rather large one . It turns out that worms used in composting emit a greenhouse gas -- nitrous oxide -- which is hundreds of times more powerful than carbon dioxide . Unfortunately , in terms of greenhouse gas emissions , large-scale composting plants could be just as damaging to the environment as landfills of the same size , reports the UK 's Telegraph newspaper . `` The emissions that come from these worms can actually be 290 times more potent than carbon dioxide and 20 times more potent than methane , '' the Telegraph quotes Jim Frederickson , an Open University research fellow . `` In all environmental systems you get good points and bad points . '' E-mail to a friend -LRB- Sources : CityFarmer.org , The Ecologist , NatureWatch , U.S. Environmental Protection Agency , Veolia Environmental Services , Soil Association , Waste Management World , New York Times , Reuters , ScienceDaily , Treehugger.com , Telegraph , India Together -RRB-</DOCUMENT>\\n<DOCUMENT>Editor 's note : The U.S. Marshals Service last week launched one of the largest weeklong fugitive sweeps in the southeastern United States . CNN takes you inside the operation . Authorities received a tip that a convicted child molester was living here . He was captured at a hardware store . ATLANTA , Georgia -LRB- CNN -RRB- -- The trail for the convicted child molester seemed to grow cold as the police combed his empty apartment . James Maurice Robinson , 25 , a confessed sex offender , had been on the run for more than two years , and it looked as if he would elude capture yet again . The authorities huddled in a nearby parking lot to discuss Plan B , an air of disgust hanging over them . James Ergas , the U.S. Marshal helping to lead this operation , acts on a tip . He pulls out his cell phone and calls a hardware store where the suspect may be working . Using a ruse , he begins speaking to the manager and , at one point , Robinson himself gets on the phone and unknowingly talks to the very man trying to catch him . Gotcha ! Authorities now know exactly where their man is . He 's seven miles away , on the other side of town . It 's 11:02 a.m. Ergas guns his unmarked sport utility vehicle at 95 miles per hour through downtown Atlanta , zipping in and out of the city 's notorious traffic congestion . Hear cops bang door , see raid on a home : `` Get down ! '' '' `` I 've got no place in my heart for pedophiles , '' he says , pressing down harder on the gas . The vehicle thrusts forward . Ten minutes later , he whips his SUV into the store 's parking lot . The suspect 's car , a burgundy , four-door Pontiac Grand Am , sits near a back stairwell . `` When we go in there , he 's going to run out the back , '' Ergas says . He parks near the front of the building and alerts his backup . Within minutes , the full team arrives . Two take position near the back stairwell . Ergas and other team members , dressed in black flak jackets , enter the front door at 11:19 a.m. Robinson does n't have a chance . He tries to run , but slips . Ergas points his Taser and prepares to zap him . Robinson knows his gig is up . He surrenders peacefully . `` He saw the Taser , '' Ergas says , with a smile . `` Nobody wants to be Tased . '' More than 100 miles away , the man who first arrested Robinson in March 2004 gets word of the capture . `` Anytime we can get a pervert off the street like that , it 's going to make me happy , '' said Robert Tate , a detective with the LaFayette Police Department in northwest Georgia , near the Tennessee border . Robinson had been accused of exposing himself to a 10-year-old boy in a Wal-Mart bathroom and masturbating in front of him . Police records indicate the boy was so petrified he was afraid to leave the stall for 15 minutes afterward . Robinson pleaded guilty to one count of child molestation on May 26 , 2005 , according to the Walker County District Attorney 's Office . But he skipped town and never made his sentencing hearing on February 14 , 2006 , authorities said . A warrant was then issued for his arrest . Robinson now faces five to 20 years in prison , the DA 's office said . Robinson was one of 1,250 fugitives busted in Georgia last week as part of Operation Falcon , a nationwide sweep to arrest some of the most violent offenders . Of the arrests in Georgia , 724 came in metro Atlanta ; two were suspected killers , authorities said . Multiple sweeps like these have already taken place in other cities in recent weeks as part of Falcon . More are coming to undisclosed regions of the country . Authorities would not release further details about the nationwide hunt due to the ongoing nature of the operation . `` Our primary focus when we do this operation are violent offenders , sex offenders and gang members , '' says Keith Booker , the commander of the U.S. Marshals Southeast Regional Fugitive Task Force leading this sweep that included 115 federal , state and local agencies . The fugitives were wanted on felony charges ranging from murder and aggravated assault to rape and armed robbery to child molestation and an array of parole violations . On this day , while Ergas and his eight - to 10-member team hit multiple spots where fugitives were believed to be living , another 150 agents , investigators , detectives , officers and deputies were working other parts of metro Atlanta . Of the 700-plus arrests made around Atlanta , authorities smashed through 154 doors . Not every suspect was captured , but the hunt generated leads that will be followed up . The work involved grueling and dangerous 14 - to 18-hour days , but the officers still found time to laugh . There was one who Tasered himself while running after a suspect , and another who held up a bag of oregano thinking it was pot and quizzed his subjects . Both provided fodder for the watercooler . Then , there was the suspect wanted for aggravated assault who authorities said tried to jump over a 30-foot wall , breaking several bones when he landed . `` He did n't want to go to jail . Instead , he went to jail crippled , '' Ergas said . The police kept close tabs on the six different teams ' arrests , an internal competition to see who could bag more wanted felons . Team Vulture beat out Team Osprey with 147 arrests to 132 . At the end of the operation , about 80 officers crowded into a large conference room and were briefed on the final results . `` You prevented a lot of victims this week , '' Booker told them . Law enforcement studies , he said , indicate the typical fugitive commits an average of 13 crimes while they 're on the run . If that 's true , more than 15,000 potential victims have been spared . `` These people ca n't commit crimes against other people while they 're locked up , '' Booker said .</DOCUMENT>\\nWhat was the predicted passing distance of the Kosmos 1275 debris from the International Space Station?\",\n",
       " 'text': '<DOCUMENT>NEW YORK -LRB- CNN -RRB- -- A pedestrian was struck twice by vehicles in Queens and dragged for 17 miles by the second vehicle before police found him dead in Brooklyn , New York City Police Commissioner Ray Kelly told reporters Wednesday . Surveillance video shows a body in the middle of the street . The badly mangled body was discovered under a van after several passing motorists motioned the driver to pull over , Kelly said . Police had not identified the victim Wednesday evening , he said . The first driver called 911 to report he thought he had struck a pedestrian but did not see anyone . It turned out the second driver , in a van , had driven over the man , whose body became lodged under its chassis , according to police . Kelly said the van driver stopped at one point during the drive on New York City \\'s highways and roads because he noticed the vehicle was not driving properly . But he failed to find anything unusual , Kelly said . Police are retracing the route the van drove in an attempt to find body parts , he said . No charges have been filed , Kelly told reporters Wednesday afternoon .</DOCUMENT>\\n<DOCUMENT>-LRB- CNN -RRB- -- NASA wo n\\'t have to maneuver the international space station to dodge a piece of debris from a Soviet-era satellite spinning around Earth , the space agency announced Monday . NASA says debris wo n\\'t threaten the international space station , seen here from Endeavour in November 2008 . Mission controllers at the Johnson Space Center in Houston warned earlier that a piece of the Kosmos 1275 was to pass about 1/2 mile from the space station early Tuesday morning . But after further study , NASA determined no evasive action would be needed , said Paul Dye , flight director for the space shuttle Discovery , which is en route to the station . `` The latest tracking information showed it is outside of our area of concern , so the station is going to be right where we expected it to be , \\'\\' Dye told reporters at the Johnson Space Center in Houston , Texas . Discovery lifted off from Florida on Sunday for a scheduled docking at 5:13 p.m. ET Tuesday . The spacecraft is not threatened by the debris , said LeRoy Cain , the shuttle program \\'s deputy manager . The dimensions of the satellite debris were not known Monday . The object was expected to pass `` on the fringes \\'\\' of the 2 km-by-25 km-by-25 km -LRB- 1.25 mile-by-15 mile-by-15 mile -RRB- safety zone controllers monitor , Dye said . `` It \\'s a very low probability of hit -- less than one in 100,000 , \\'\\' he said . The space shuttle Discovery is currently headed toward the station for a scheduled docking Tuesday , but the spacecraft is not threatened by the debris , said LeRoy Cain , the shuttle program \\'s deputy manager . Last week , a piece of debris forced the space station \\'s current crew -- astronauts Mike Fincke and Sandy Magnus , and cosmonaut Yury Lonchakov -- to take shelter in its escape capsule , a rare close call for the orbiting platform , NASA said . That object , a chunk of metal from a satellite rocket motor used on an earlier space mission , was about 5 inches across , and moving at nearly 20,000 mph . It passed within 3 miles of the station early Thursday afternoon and was detected too late for the station to maneuver out of the way , controllers said . iReport.com : See , share your photos of launches and space Cain called the prospect of two close passes in less than a week a `` random \\'\\' occurrence , but said controllers have frequently had to maneuver around pieces of orbital junk . `` It \\'s part of the business , \\'\\' he said . `` It comes with the territory , and we \\'ll continue to do whatever \\'s necessary to avoid debris . \\'\\' CNN \\'s John Zarrella contributed to this report .</DOCUMENT>\\n<DOCUMENT>-LRB- CNN -RRB- -- Environmental saviors can turn up in the most unexpected places . For the answer to our global waste management crisis , we need only look as far as our back gardens , for example . Forty million manure worms are being put to use in Sydney to treat its sewage . That \\'s what proponents of vermicomposting will tell us , anyway . Vermicomposting is the art of composting using worms -- and it is worms , apparently , who could save us yet . Worms are nature \\'s waste disposal units . Or rather , it is more accurate to call them waste renewal units , as they do n\\'t simply consume the waste -- they turn it into something far more useful : nutrient-rich compost . Earthworms are by any definition incredible creatures -- particularly , in this context : The Eisenia foetida and Lumbricus rubellus , which are the two breeds of worm commonly used in vermicomposting , according to CityFarmer.org . Not only can they eat their own body weight in organic waste every day , but they actually remove -- or neutralize -- many of the toxins in that waste in the process , according to The Ecologist . There are a lot of them , too . You will find as many as 1 million earthworms in just 1 acre of land , according to NatureWatch , their population doubling in size every one-two months . And they work hard -- 1 million worms will get through 10 tons of leaves , stems and dead roots in one year , ploughing 40 tons of soil in the process . What they end up producing is ready-to-go plant soluble nutrients . According to NatureWatch , earthworm castings have five times as much nitrogen , seven times as much phosphorous , 11 times as much potassium and 1,000 times more `` beneficial bacteria \\'\\' than the stuff the worm consumes in the first place . Literally speaking , what goes in is far less valuable than what comes out . Utilizing ` black gold \\' It is no surprise why these worms \\' byproducts are often referred to as `` black gold , \\'\\' this knowledge being particularly pertinent at a time when nearly 40 percent of the world \\'s agricultural soil has become `` seriously degraded , \\'\\' according to the UK Soil Association . Worm compost : Just one pound of worms can turn 1.3 million pounds of raw manure into high quality fertilizer in around 60 days , according to ScienceDaily . And plants love it . Research has shown that plant yields experience a significant boost from vermicomposting , by as much as 40 percent for broccoli , 80 percent for tomatoes and as much as 259 percent for carrots , according to The Ecologist . According to the World Waste Survey , compiled by Veolia Environmental Services , we generated at least 1.2 billion metric tons of municipal waste in 2004 . And a high proportion of that waste was organic matter which could have been composted . Around 32 percent of the European Union \\'s annual municipal waste -LRB- around 120 million tons -RRB- is food and garden waste , according to Waste Management World . And 30 percent of U.S. waste could have been composted in 2000 , according to the U.S. Environmental Protection Agency -LRB- EPA -RRB- -- representing 92 million tons of organic waste that otherwise sat rotting on a landfill , emitting methane into the atmosphere . As local governments and companies grapple with the issue of how to safely dispose of waste , vermicomposting is finding new fans -- some in unusual places . In Hong Kong , none other than fast-food chain McDonald \\'s has signed up to a vermicomposting program that will have 80 million worms feasting on between 50 and 200 tons of organic waste a day , according to the Reuters news service . McDonald \\'s aims to decrease the amount of waste it sends to Hong Kong \\'s rapidly filling landfills by 80 percent , Reuters reports . Other companies to have experimented with worm composting include Ikea in the U.S. state of Illinois , where , according to Treehugger.com , it is conducting vermicomposting trials . If all goes well , it aims to use worm composting to boost its 70 percent recycling rates to 90 percent , the site says . As it happens , we have had this knowledge for centuries . Aristotle himself was even said to have called worms the `` intestines of the soil , \\'\\' according to The New York Times , which also points out that Cleopatra was another devotee , bestowing sacred status on them and ordering them protected . Charles Darwin admired their land-tilling abilities so much that he wrote a book on them . `` It may be doubted whether there are many other animals which have played so important a part in the history of the world as have these lowly organized creatures , \\'\\' he mused , according to The New York Times . Greenhouse gas emitters What Darwin , Cleopatra or Aristotle could not have known however , is that worms could also have the potential to save us from toxic waste . Scientists in India have found that worms \\' digestive systems and regenerative abilities are so remarkable that they can actually absorb toxic materials yet expel toxic-free manure . According to the Indian newspaper , India Together , researchers in Gujarat have found that worms can `` detox \\'\\' the organic parts of the industrial sludge which results from the effluent treatment of industrial or hazardous waste . The method is ideal for industries -- such as paper , food processing , oil , textiles , dairy , distilleries and agro-chemicals -- where there is large enough organic components in the industrial sludge , Indian researchers say . But even with vermicomposting , something that looks like one of the most environmentally sound ideas around , there \\'s a downside -- and it \\'s a rather large one . It turns out that worms used in composting emit a greenhouse gas -- nitrous oxide -- which is hundreds of times more powerful than carbon dioxide . Unfortunately , in terms of greenhouse gas emissions , large-scale composting plants could be just as damaging to the environment as landfills of the same size , reports the UK \\'s Telegraph newspaper . `` The emissions that come from these worms can actually be 290 times more potent than carbon dioxide and 20 times more potent than methane , \\'\\' the Telegraph quotes Jim Frederickson , an Open University research fellow . `` In all environmental systems you get good points and bad points . \\'\\' E-mail to a friend -LRB- Sources : CityFarmer.org , The Ecologist , NatureWatch , U.S. Environmental Protection Agency , Veolia Environmental Services , Soil Association , Waste Management World , New York Times , Reuters , ScienceDaily , Treehugger.com , Telegraph , India Together -RRB-</DOCUMENT>\\n<DOCUMENT>Editor \\'s note : The U.S. Marshals Service last week launched one of the largest weeklong fugitive sweeps in the southeastern United States . CNN takes you inside the operation . Authorities received a tip that a convicted child molester was living here . He was captured at a hardware store . ATLANTA , Georgia -LRB- CNN -RRB- -- The trail for the convicted child molester seemed to grow cold as the police combed his empty apartment . James Maurice Robinson , 25 , a confessed sex offender , had been on the run for more than two years , and it looked as if he would elude capture yet again . The authorities huddled in a nearby parking lot to discuss Plan B , an air of disgust hanging over them . James Ergas , the U.S. Marshal helping to lead this operation , acts on a tip . He pulls out his cell phone and calls a hardware store where the suspect may be working . Using a ruse , he begins speaking to the manager and , at one point , Robinson himself gets on the phone and unknowingly talks to the very man trying to catch him . Gotcha ! Authorities now know exactly where their man is . He \\'s seven miles away , on the other side of town . It \\'s 11:02 a.m. Ergas guns his unmarked sport utility vehicle at 95 miles per hour through downtown Atlanta , zipping in and out of the city \\'s notorious traffic congestion . Hear cops bang door , see raid on a home : `` Get down ! \\'\\' \\'\\' `` I \\'ve got no place in my heart for pedophiles , \\'\\' he says , pressing down harder on the gas . The vehicle thrusts forward . Ten minutes later , he whips his SUV into the store \\'s parking lot . The suspect \\'s car , a burgundy , four-door Pontiac Grand Am , sits near a back stairwell . `` When we go in there , he \\'s going to run out the back , \\'\\' Ergas says . He parks near the front of the building and alerts his backup . Within minutes , the full team arrives . Two take position near the back stairwell . Ergas and other team members , dressed in black flak jackets , enter the front door at 11:19 a.m. Robinson does n\\'t have a chance . He tries to run , but slips . Ergas points his Taser and prepares to zap him . Robinson knows his gig is up . He surrenders peacefully . `` He saw the Taser , \\'\\' Ergas says , with a smile . `` Nobody wants to be Tased . \\'\\' More than 100 miles away , the man who first arrested Robinson in March 2004 gets word of the capture . `` Anytime we can get a pervert off the street like that , it \\'s going to make me happy , \\'\\' said Robert Tate , a detective with the LaFayette Police Department in northwest Georgia , near the Tennessee border . Robinson had been accused of exposing himself to a 10-year-old boy in a Wal-Mart bathroom and masturbating in front of him . Police records indicate the boy was so petrified he was afraid to leave the stall for 15 minutes afterward . Robinson pleaded guilty to one count of child molestation on May 26 , 2005 , according to the Walker County District Attorney \\'s Office . But he skipped town and never made his sentencing hearing on February 14 , 2006 , authorities said . A warrant was then issued for his arrest . Robinson now faces five to 20 years in prison , the DA \\'s office said . Robinson was one of 1,250 fugitives busted in Georgia last week as part of Operation Falcon , a nationwide sweep to arrest some of the most violent offenders . Of the arrests in Georgia , 724 came in metro Atlanta ; two were suspected killers , authorities said . Multiple sweeps like these have already taken place in other cities in recent weeks as part of Falcon . More are coming to undisclosed regions of the country . Authorities would not release further details about the nationwide hunt due to the ongoing nature of the operation . `` Our primary focus when we do this operation are violent offenders , sex offenders and gang members , \\'\\' says Keith Booker , the commander of the U.S. Marshals Southeast Regional Fugitive Task Force leading this sweep that included 115 federal , state and local agencies . The fugitives were wanted on felony charges ranging from murder and aggravated assault to rape and armed robbery to child molestation and an array of parole violations . On this day , while Ergas and his eight - to 10-member team hit multiple spots where fugitives were believed to be living , another 150 agents , investigators , detectives , officers and deputies were working other parts of metro Atlanta . Of the 700-plus arrests made around Atlanta , authorities smashed through 154 doors . Not every suspect was captured , but the hunt generated leads that will be followed up . The work involved grueling and dangerous 14 - to 18-hour days , but the officers still found time to laugh . There was one who Tasered himself while running after a suspect , and another who held up a bag of oregano thinking it was pot and quizzed his subjects . Both provided fodder for the watercooler . Then , there was the suspect wanted for aggravated assault who authorities said tried to jump over a 30-foot wall , breaking several bones when he landed . `` He did n\\'t want to go to jail . Instead , he went to jail crippled , \\'\\' Ergas said . The police kept close tabs on the six different teams \\' arrests , an internal competition to see who could bag more wanted felons . Team Vulture beat out Team Osprey with 147 arrests to 132 . At the end of the operation , about 80 officers crowded into a large conference room and were briefed on the final results . `` You prevented a lot of victims this week , \\'\\' Booker told them . Law enforcement studies , he said , indicate the typical fugitive commits an average of 13 crimes while they \\'re on the run . If that \\'s true , more than 15,000 potential victims have been spared . `` These people ca n\\'t commit crimes against other people while they \\'re locked up , \\'\\' Booker said .</DOCUMENT>\\nWhat was the predicted passing distance of the Kosmos 1275 debris from the International Space Station?\\nCoT Answer: To answer the question about the predicted passing distance of the Kosmos 1275 debris from the International Space Station, we need to follow these steps:\\n\\n1. Identify the specific information in the context that mentions the distance of the Kosmos 1275 debris from the International Space Station.\\n2. Look for any numerical values or descriptions related to the distance.\\n3. Ensure that the information is directly related to the Kosmos 1275 debris and not any other debris mentioned in the context.\\n\\nLet\\'s go through the context step-by-step:\\n\\n1. The context mentions that NASA initially warned about the Kosmos 1275 debris:\\n   ##begin_quote##\\n   \"Mission controllers at the Johnson Space Center in Houston warned earlier that a piece of the Kosmos 1275 was to pass about 1/2 mile from the space station early Tuesday morning.\"\\n   ##end_quote##\\n\\n2. This sentence provides a specific numerical value for the predicted passing distance:\\n   ##begin_quote##\\n   \"a piece of the Kosmos 1275 was to pass about 1/2 mile from the space station early Tuesday morning.\"\\n   ##end_quote##\\n\\n3. The context further confirms that no evasive action was needed after further study:\\n   ##begin_quote##\\n   \"But after further study, NASA determined no evasive action would be needed, said Paul Dye, flight director for the space shuttle Discovery, which is en route to the station.\"\\n   ##end_quote##\\n\\nBased on this information, we can conclude the predicted passing distance.\\n\\n<ANSWER>: about 1/2 mile'}"
      ]
     },
     "execution_count": 3,
     "metadata": {},
     "output_type": "execute_result"
    }
   ],
   "source": [
    "ds[\"train\"][1]"
   ]
  },
  {
   "cell_type": "code",
   "execution_count": 2,
   "metadata": {},
   "outputs": [
    {
     "name": "stderr",
     "output_type": "stream",
     "text": [
      "Creating parquet from Arrow format: 100%|██████████| 1/1 [00:00<00:00, 32.87ba/s]\n",
      "Uploading the dataset shards: 100%|██████████| 1/1 [00:03<00:00,  3.13s/it]\n"
     ]
    },
    {
     "data": {
      "text/plain": [
       "CommitInfo(commit_url='https://huggingface.co/datasets/phatvo/newsqa-raft-100-p0.9/commit/7a7ac0bb3cc0f38f36751e020f0da88a0ee1a070', commit_message='Upload dataset', commit_description='', oid='7a7ac0bb3cc0f38f36751e020f0da88a0ee1a070', pr_url=None, pr_revision=None, pr_num=None)"
      ]
     },
     "execution_count": 2,
     "metadata": {},
     "output_type": "execute_result"
    }
   ],
   "source": [
    "ds.push_to_hub(\"phatvo/newsqa-raft-100-p0.9\")"
   ]
  },
  {
   "cell_type": "code",
   "execution_count": null,
   "metadata": {},
   "outputs": [],
   "source": [
    "from datasets import load_dataset\n",
    "\n",
    "dataset_id = \"phatvo/newsqa\"\n",
    "ds = load_dataset(dataset_id, split = \"test_raft\")"
   ]
  }
 ],
 "metadata": {
  "kernelspec": {
   "display_name": "py10",
   "language": "python",
   "name": "python3"
  },
  "language_info": {
   "codemirror_mode": {
    "name": "ipython",
    "version": 3
   },
   "file_extension": ".py",
   "mimetype": "text/x-python",
   "name": "python",
   "nbconvert_exporter": "python",
   "pygments_lexer": "ipython3",
   "version": "3.10.13"
  }
 },
 "nbformat": 4,
 "nbformat_minor": 2
}
