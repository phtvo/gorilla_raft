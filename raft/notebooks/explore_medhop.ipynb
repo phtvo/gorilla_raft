{
 "cells": [
  {
   "cell_type": "code",
   "execution_count": 3,
   "metadata": {},
   "outputs": [
    {
     "data": {
      "text/plain": [
       "Dataset({\n",
       "    features: ['id', 'question_id', 'document_id', 'question', 'type', 'choices', 'context', 'answer'],\n",
       "    num_rows: 342\n",
       "})"
      ]
     },
     "execution_count": 3,
     "metadata": {},
     "output_type": "execute_result"
    }
   ],
   "source": [
    "import json\n",
    "from datasets import load_dataset\n",
    "import numpy as np\n",
    "\n",
    "dataset_id = \"bigbio/medhop\"\n",
    "\n",
    "dataset = load_dataset(dataset_id, \"medhop_bigbio_qa\", trust_remote_code=True)[\"validation\"]\n",
    "dataset"
   ]
  },
  {
   "cell_type": "code",
   "execution_count": 11,
   "metadata": {},
   "outputs": [
    {
     "data": {
      "text/plain": [
       "{'id': 'MH_dev_0',\n",
       " 'question_id': 'MH_dev_0',\n",
       " 'document_id': 'MH_dev_0',\n",
       " 'question': 'interacts_with DB01171?',\n",
       " 'type': 'multiple_choice',\n",
       " 'choices': ['DB00786',\n",
       "  'DB00863',\n",
       "  'DB01656',\n",
       "  'DB02377',\n",
       "  'DB04844',\n",
       "  'DB04871',\n",
       "  'DB05812',\n",
       "  'DB06101',\n",
       "  'DB08820'],\n",
       " 'context': \"DB08820 : the first therapy acting on the primary cause of cystic fibrosis . Cystic fibrosis ( CF ) is a life-shortening disorder that affects over 30,000 people in the U.S. and 70,000 worldwide . CF is caused by mutations in the P13569 gene , which codes for the cystic fibrosis transmembrane conductance regulator ( P13569 ) protein . P13569 is a chloride and bicarbonate channel and regulates several ion transporters at the epithelial cell membrane , controlling hydration or ionic composition of epithelial secretions . Management of CF is currently supportive , but recent advances in drug development have focused on therapies that assist mutant P13569 function . In the current review , we summarize the development and clinical experience with VX-770 ( ivacaftor ) , a small molecule that increases P13569 chloride conductance in vitro and in vivo , including wild-type and G551D P13569 . The G551D P13569 mutation is the third most common CF disease-causing mutation , in which the P13569 protein localizes to the epithelial cell membrane but has defective gating . With restoration of adequate P13569 function through pharmacotherapy , it is possible that the clinical course of patients with CF could be markedly improved , including longevity , quality of life and treatment burden . Multiplex protein signature for the detection of bladder cancer in voided urine samples . PURPOSE : Accurate urine assays for bladder cancer detection would benefit patients and health care systems . Through extensive genomic and proteomic profiling of urine components we previously identified a panel of 8 biomarkers that can facilitate the detection of bladder cancer in voided urine samples . In this study we confirmed this diagnostic molecular signature in a diverse multicenter cohort . MATERIALS AND METHODS : We performed a case-control , phase II study in which we analyzed voided urine from 102 subjects with bladder cancer and 206 with varying urological disorders . The urinary concentration of 8 biomarkers ( P10145 , P14780 and 10 , P05121 , P15692 , P03950 , Q16790 and P02649 ) was assessed by enzyme-linked immunosorbent assay . Diagnostic performance of the panel of tested biomarkers was evaluated using ROCs and descriptive statistical values , eg sensitivity and specificity . RESULTS : Seven of the 8 urine biomarkers were increased in subjects with bladder cancer relative to those without bladder cancer . The 7 biomarkers were assessed in a new model , which had an AUROC of 0.88 ( 95 % CI 0.84-0.93 ) , and 74 % sensitivity and 90 % specificity . In contrast , the sensitivity of voided urine cytology and the UroVysion® cytogenetic test in this cohort was 39 % and 54 % , respectively . Study limitations include analysis performed on banked urine samples and the lack of voided urine cytology and cytogenetic test data on controls . CONCLUSIONS : The study provides further evidence that the reported panel of diagnostic biomarkers can reliably achieve the noninvasive detection of bladder cancer with higher sensitivity than currently available urine based assays . Expression profile of genes associated with the dopamine pathway in vitiligo skin biopsies and blood sera . BACKGROUND : Dopamine has been proven to be toxic for melanocytes . In vitiligo patients the level of dopamine is increased and the functioning of several enzymes participating in the dopamine pathway is changed . METHODS : With the use of quantitative real-time polymerase chain reaction and ELISA the expression of genes connected to the dopamine pathway ( PAH , P61457 , TH , DDC , P09172 , PNMT , P07203 , P21397 , P27338 , P21964 , P21728 - P21918 , P54219 and Q05940 ) was observed in vitiligo patients ' and control subjects ' skin and blood . RESULTS : The mRNA expression of P07203 , DDC , P21397 , P21728 and P21918 differs in vitiligo skin and the protein level of DDC , P21397 , P27338 , P21728 and P21918 is changed in vitiligo patients ' skin and/or blood sera . CONCLUSIONS : The dopamine pathway probably influences melanogenesis directly or through the melanocortin pathway . We provide new data about changes of expression profile of the dopamine-synthesizing enzyme DDC , the dopamine-degrading enzymes P21397 and P27338 and the D1-like family dopamine receptors in vitiligo skin and blood sera . Role of histamine receptors in the effects of histamine on the production of reactive oxygen species by whole blood phagocytes . AIMS : The diverse physiological functions of histamine are mediated through distinct histamine receptors . In this study we investigated the role of P25021 and Q9H3N8 in the effects of histamine on the production of reactive oxygen species by phagocytes in whole blood . MAIN METHODS : Changes in reactive oxygen species ( ROS ) production by whole blood phagocytes after treatment with histamine , Q9H3N8 agonists ( 4-methylhistamine , VUF8430 ) , P25021 agonist ( dimaprit ) and their combinations with Q9H3N8 antagonist ( JNJ10191584 ) and P25021 antagonist ( ranitidine ) were determined using the chemiluminescence ( CL ) assay . To exclude the direct scavenging effects of the studied compounds on the CL response , the antioxidant properties of all compounds were measured using several methods ( TRAP , ORAC , and luminol-HRP-H2O2 based CL ) . KEY FINDINGS : DB11320 , 4-methylhistamine , VUF8430 and dimaprit inhibited the spontaneous and OZP-activated whole blood CL in a dose-dependent manner . On the other hand , only VUF8430 was able to inhibit PMA-activated whole blood CL . DB00863 , but not JNJ10191584 , completely reduced the effects of histamine , 4-methylhistamine and dimaprit . The direct scavenging ability of tested compounds was negligible . SIGNIFICANCE : Our results demonstrate that the inhibitory effects of histamine on ROS production in whole blood phagocytes were caused by P25021 . Our results also suggest that Q9H3N8 agonists in concentrations higher than 10(-6)M may also influence ROS production via binding to P25021 . P05231 and P10145 increase the expression of glycosyltransferases and sulfotransferases involved in the biosynthesis of sialylated and/or sulfated Lewisx epitopes in the human bronchial mucosa . Bronchial mucins from patients suffering from CF ( cystic fibrosis ) exhibit glycosylation alterations , especially increased amounts of the sialyl-Lewis(x) ( NeuAcalpha2-3Galbeta1-4[Fucalpha1-3]GlcNAc-R ) and 6-sulfo-sialyl-Lewis(x) ( NeuAcalpha2-3Galbeta1-4[Fucalpha1-3][SO(3)H-6]GlcNAc-R ) terminal structures . These epitopes are preferential receptors for Pseudomonas aeruginosa , the bacteria responsible for the chronicity of airway infection and involved in the morbidity and early death of CF patients . However , these glycosylation changes can not be directly linked to defects in P13569 ( CF transmembrane conductance regulator ) gene expression since cells that secrete airway mucins express no or very low amounts of the protein . Several studies have shown that inflammation may affect glycosylation and sulfation of various glycoproteins , including mucins . In the present study , we show that incubation of macroscopically healthy fragments of human bronchial mucosa with P05231 ( interleukin-6 ) or P10145 results in a significant increase in the expression of alpha1,3/4-fucosyltransferases [ Q495W5 ( fucosyltransferase 11 gene ) and P21217 ] , alpha2-6- and alpha2,3-sialyltransferases [ Q9Y274 ( alpha2,3-sialyltransferase 6 gene ) and Q96JF0 ( alpha2,6-sialyltransferase 2 gene ) ] and GlcNAc-6-O-sulfotransferases [ Q8NCG5 ( carbohydrate sulfotransferase 4 gene ) and Q9GZX3 ] mRNA . In parallel , the amounts of sialyl-Lewis(x) and 6-sulfo-sialyl-Lewis(x) epitopes at the periphery of high-molecular-mass proteins , including Q99102 , were also increased . In conclusion , our results indicate that P05231 and -8 may contribute to the increased levels of sialyl-Lewis(x) and 6-sulfo-sialyl-Lewis(x) epitopes on human airway mucins from patients with CF . Possible differences in the mechanism(s) of action of different glucocorticoid hormone compounds . Different glucocorticoid hormones ( P30793 ) show differences in the intensity and in the kinetics of their immunomodulating activity . The mechanism(s) of action of P30793 is under investigation , but is has been noted that they exert immune activity via the genomic pathway . We have studied the effects of prednisone ( PDN ) , deflazacort ( DFC ) , and dexamethasone ( DB00514 ) on the production of cytokines ( P60568 , P05231 , P01375 , P22301 ) by peripheral T lymphocytes , and the effects on the inhibition of NF-kB DNA binding activity by activated Jurkat cell line . The data obtained show that the three P30793 molecules exert an immunosuppression on cytokine production by T lymphocytes and a strong decrease in the nuclear translocation of NF-kB in Jurkat cells ; moreover , ( a ) not all the cytokines investigated were affected , and not with the same intensity , by the three P30793 and ( b ) DB00514 inhibited the binding activity of NF-kB less than that of DFC and PDN . These data are in agreement with the concept that different P30793 compounds might differ in their binding and affinity properties , tissue-specific metabolism , and interaction with transcription factor . Ras-transfection up-regulated HaCaT cell migration : inhibition by Marimastat . Cell migration is an essential process in physiological and pathological conditions such as wound healing and tumor invasion . This phenomenon involves cell adhesion on the extracellular matrix mediated by integrins , and cell detachment promoted in part by metalloproteinases ( MMPs ) . In the present study , the migration of two HaCaT-ras clones ( metastatic or not ) , was compared with HaCaT cells , and normal human primary cultured keratinocytes . Using colloidal gold migration assay , the migration index on type I and type IV collagen was similar for primary cultured keratinocytes and HaCaT , whereas it was markedly higher for the HaCaT-ras clones . High motility of ras-transfected cells was confirmed from an in vitro wound healing assay . It was not correlated with changes in integrin expression or related to a different adhesion on extracellular matrix . The Marismastat ( DB00786 ) , a MMP inhibitor , inhibited in a dose-dependent effect the migration in both assays , demonstrating the important role of MMPs in the migration process . Under our experimental conditions , P03956 activity was not detected in HaCaT and P14780 activity was secreted by these cells only after their stimulation by P01133 . Here , P08253 was the major gelatinolytic activity secreted by all the cells and its secretion was markedly higher for HaCaT-nis clones compared with HaCaT . In addition , Western blotting results confirmed a higher expression of P08253 associated with a lower expression of P16035 in HaCaT-ras compared with HaCaT . These results suggest that Ha-ras oncogene could be a stimulating factor of migration and might modified the balance between P08253 and P16035 in keratinocyte cell lines . [ Moclobemide ( DB01171 ) , the first P21397 -inhibitor : really something new ? ] . PPARγ and RXR ligands disrupt the inflammatory cross-talk in the hypoxic breast cancer stem cells niche . Cancer stem cells ( CSCs ) are affected by the local micro-environment , the niche , in which inflammatory stimuli and hypoxia act as steering factors . Here , two nuclear receptors ( NRs ) agonists , i.e. pioglitazone ( PGZ ) , a ligand of peroxisome proliferator activated receptor-γ , and 6-OH-11-O-hydroxyphenanthrene ( IIF ) , a ligand of retinoid X receptors , were investigated for their capability to interference with the cross-talk between breast CSCs and the niche compartment . We found that IIF potentiates the ability of PGZ to hamper the mammospheres-forming capability of human breast tumours and MCF7 cancer cells , reducing the expression of CSCs regulatory genes ( Notch3 , P78504 , O43623 , P05231 , P02649 , Hypoxia inducible factor-1α and Q16790 ) . Notably , these effects are not observed in normal-MS obtained from human breast tissue . Importantly , NRs agonists abolish the capability of hypoxic MCF7 derived exosomes to induce a pro-inflammatory phenotype in mammary glands fibroblasts . Moreover , NRs agonist also directly acts on breast tumour associated fibroblasts to downregulate nuclear factor-κB pathway and metalloproteinases ( P08253 and P14780 ) expression and activity . In conclusion , NRs agonists disrupt the inflammatory cross-talk of the hypoxic breast CSCs niche . Genotype frequencies of 50 polymorphisms for 241 Japanese non-cancer patients . This paper lists the genotype frequencies of 50 polymorphisms of 37 genes ( P05091 , P07550 , P13945 , P21964 , P16671 , P25025 , P24385 , P35354 , P11509 , P05093 , P11511 , IGF1 , IL-1A , IL-1B , IL-1RN , IL-1R1 , P05231 , P10145 , P22301 , P41159 , Le , L-myc , P05164 , Q99707 , P42898 , P21397 , P15559 , O15527 , p53 , p73 , Se , P31213 , TGF-B , P01375 -A , P01375 -B , P18074 , and P18887 ) and 6 sets of combined genotype frequencies for 241 non-cancer Japanese outpatients . Though the genotype frequencies of 25 polymorphisms have already been reported in our previous papers , 15 polymorphisms ( P16671 A52C , P25025 C785T , P24385 G870A , IGF1 C/T at intron 2 and G2502T , IL-1A 46-bp VNTR , IL-1R1 C-116T , P05231 Ins/Del 17C , P10145 A-278T and C74T , IL- 10 T-819C , P41159 A-2548G , P31213 2-bp VNTR , P18074 Lys751Gln , and P18887 Arg399Gln ) and six sets of combined genotype frequencies ( IL-1B C-31T and IL-1A C-889T , IL-1B C-31T and IL-1RN 86-bp VNTR , IL-1B C-31T and IL-1R1 C-116T , P01375 -A G-308A and P01375 -B A252G , P31213 Val89Leu and 2-bp VNTR , and P18887 Arg399Gln and P18074 Lys751Gln ) were reported in this paper for the first time for Japanese . Although microarray technology will produce this kind of information in near future , this is the first document that reports the genotype/allele frequencies among Japanese for an archival purpose . Genetic factors influencing outcome from neurotrauma . PURPOSE OF REVIEW : Clinical outcome after neurotrauma is considerably variable and can only partly be explained by known prognostic factors . There is converging evidence from genetic research that a number of genetic variants may contribute to this variability . This review provides recent data from human studies , published in the previous year , on genetic factors influencing outcome after neurotrauma . The bibliographic databases MEDLINE , EMBASE and PsycINFO were searched to identify relevant studies . RECENT FINDINGS : Genetic susceptibility to various aspects of clinical outcome after neurotrauma was reported in recent clinical studies . Genetic loci investigated include polymorphisms in P02649 , P21397 , P23560 , NOS3 , P05231 , P12036 , P31645 , P21964 , P48454 and Q8IX03 genes . The importance of these findings and future directions are discussed . SUMMARY : Recent genetic studies have revealed emerging aspects and extended the existing knowledge regarding the pathogenesis of neurotrauma and the genetic influence on phenotypic diversity . A better understanding of the underlying biological pathways and molecular mechanisms of an individual 's response to neurotrauma may hold the promise of novel treatment strategies and improved clinical outcome . P30047 -dependent and -independent inhibitors of P30793 . P30047 ( P30047 ) mediates the feedback inhibition of P30793 activity by ( 6R ) -L-erythro- DB00360 ( BH4 ) through protein complex formation . Since guanine and BH4 have a common pyrimidine ring structure , we examined the inhibitory effect of guanine and its analogs on the enzyme activity . DB02377 , 8-hydroxyguanine , 8-methylguanine , and 8-bromoguanine inhibited the enzyme activity in a P30047 -dependent and pH-dependent manner and induced complex formation between P30793 and P30047 . The type of inhibition by this group is a mixed type . All these properties were shared with BH4 . In striking contrast , inhibition by DB01667 and 8-mercaptoguanine was P30047 -independent and pH-independent . The type of inhibition by DB01667 and 8-mercaptoguanine was a competitive type . The two compounds did not induce complex formation between the enzyme and P30047 . These results demonstrate that guanine compounds of the first group bind to the BH4-binding site of the P30793 / P30047 complex , whereas DB01667 and 8-mercaptoguanine bind to the active site of the enzyme . Finally , the possible implications in Lesch-Nyhan syndrome and Parkinson diseases of the inhibition of P30793 by guanine and 8-hydroxyguanine are discussed . FcεRI stimulation promotes the differentiation of histamine receptor 1-expressing inflammatory macrophages . BACKGROUND : Monocyte differentiation into dendritic cells or macrophages and recruitment to peripheral organs in chronic inflammatory diseases are directed by allergen challenge via FcεRI as well as the nature of soluble factors in the microenvironment . High-affinity receptor for IgE stimulation of effector cells results in the release of histamine , which acts on various histamine receptors ( HR ) 1-4 , expressed by immune cells . METHODS : We examined the effect of FcεRI stimulation of human monocytes on P35367 expression and function of differentiating cells . The mRNA levels of P35367 , P25021 and histidine decarboxylase of differentiating cells were detected by quantitative real-time PCR . Expression of CD1c , CD11c , P34810 and Q86VB7 was detected by flow cytometry . Amount of histamine , P05231 and IL-12p70 in the cell culture was measured with the help of cytometric bead arrays or ELISA assays . Numbers of P35367 -expressing macrophages were evaluated by immunofluorescence double staining of P34810 and P35367 on human skin sections . RESULTS : We demonstrated that FcεRI stimulation promotes the generation of P35367 -expressing macrophage-like cells with enhanced histamine biosynthesis and P35367 -mediated proinflammatory properties . Supporting our in vitro findings , high numbers of P35367 -expressing P34810 (pos) macrophages were detected in the dermis of atopic dermatitis ( AD ) skin lesions . CONCLUSION : Our observations point to a close histamine-/HR-mediated activation of dermal macrophages , leading to modified cell differentiation and responsiveness via P35367 , which might contribute to the aggravation of allergic skin inflammation in AD . Decreased exercise-induced expression of nuclear factor-κB-regulated genes in muscle of patients with P48444 . BACKGROUND : Nuclear factor ( NF ) -κB activation and oxidative stress are physiologic responses of skeletal muscle to exercise but may be impaired in patients with P48444 . Therefore , we investigated NF-κB activity and expression of NF-κB-regulated genes in muscle of patients with P48444 and control subjects before and after exercise . METHODS : Quadriceps specimens were obtained before , immediately after , and 2 h after a submaximal cycle ergometry test from seven patients with P48444 ( 50.6 ± 5.7 SEM Q99581 (1) of patients with P48444 ) and seven age-matched control subjects . NF-κB DNA-binding activity in muscle and peripheral blood mononuclear cells ( PBMCs ) was determined using electrophoretic mobility shift assay and enzyme-linked immunosorbent assay , respectively . mRNA expression and protein carbonylation were measured by real-time polymerase chain reaction and Western blot , respectively . RESULTS : In control subjects , P05231 , IκBα , tumor necrosis factor-α , IL-1β , superoxide dismutase , thioredoxin , heme oxygenase 1 , and heat shock protein-70 were upregulated in muscle after exercise , whereas in patients with P48444 only P05231 mRNA was increased . Exercise-induced antiapoptotic Bcl2 mRNA levels were attenuated in patients with P48444 compared with control subjects . Basal muscle protein oxidation was higher in patients with P48444 than in control subjects , but attenuated in response to exercise . No exercise-induced changes in NF-κB DNA-binding activity in muscle and PBMCs of either group were detected . CONCLUSIONS : Skeletal muscle of patients with P48444 is characterized by an impaired response to exercise of NF-κB-regulated genes encoding inflammatory cytokines , antioxidants , stress proteins , and survival factors . Technology evaluation : DB06101 , ImClone Systems . ImClone is developing IMC-IC11 , an anti-angiogenesis chimeric monoclonal antibody specific vascular endothelial growth factor receptor 2 ( P35968 , also known Flk-1 in mice ) , for the potential treatment of cancer [ 156625 ] ; it in phase I trials for the treatment of colorectal carcinoma [ 379143 ] . The related antibody DC-101 provided proof-of-principle that an anti- P15692 receptor antibody could strongly inhibit tumor growth and even cause tumor regression with the glioblastoma tumor cell line , GBM18 [ 388236 ] . In May 1998 , the company was granted US-05747651 by the USPTO , covering antibodies against the extracellular portion of the P35968 / P35968 receptor [ 284054 ] . DB05812 acetate : in metastatic castration-resistant prostate cancer . Oral abiraterone acetate , in combination with prednisone/prednisolone , is used to treat patients with metastatic castration-resistant prostate cancer ( CRPC ) who have previously received docetaxel-containing chemotherapy . DB05812 acetate was developed to specifically inhibit cytochrome P450 (CYP)17A1 , which is an essential enzyme in the biosynthesis of testosterone . In a pivotal phase III trial in patients with metastatic CRPC who have previously received docetaxel-containing chemotherapy , abiraterone acetate 1000 mg once daily plus prednisone 5 mg twice daily significantly prolonged overall survival compared with placebo plus prednisone . In this trial , abiraterone acetate plus prednisone was significantly more effective than placebo plus prednisone in prolonging the time to prostate-specific antigen ( PSA ) progression and in prolonging progression-free survival . Significantly more abiraterone acetate plus prednisone recipients than placebo plus prednisone recipients were considered to be responders , when assessed by PSA levels or radiographic imaging . Treatment with abiraterone acetate plus prednisone in the phase III trial was associated with an acceptable tolerability profile , which was generally similar to that of the placebo plus prednisone group . However , adverse events of special interest ( e.g. cardiac disorders and liver-function test abnormalities and adverse events resulting from elevated mineralocorticoid levels because of P05093 inhibition [ i.e. fluid retention and oedema , hypokalaemia , hypertension ] ) occurred in significantly more abiraterone acetate plus prednisone than in placebo plus prednisone recipients . Expression of serotonergic system components during early Xenopus embryogenesis . Despite abundant research studies on the physiological and biochemical nature of embryonic neurotransmitter function , little is known about the molecular genetic mechanisms involved . The expression of the main components of the serotonergic system during early Xenopus embryogenesis was investigated using RT-PCR , real time PCR and in situ hybridization . Transcripts encoding the serotonin receptors P28335 and P34969 , as well as the vesicular monoamine transporter Q05940 , the serotonin transporter ( P31645 ) and the serotonin synthesis enzymes tryptophan hydroxylase ( Q8IWU9 ) and aromatic amino acid decarboxylase ( AAAD ) were found to be expressed during the cleavage division stages , whereas the degradation enzyme monoamine oxidase A ( P21397 ) was absent . The main components of the serotonergic system were found to be expressed during the earliest stages of embryonic development . The embryonic transmitter mechanism , its complexity , and its variability among various species are discussed . Derivatization of ( ± ) dihydrotetrabenazine for copper-64 labeling towards long-lived radiotracers for PET imaging of the vesicular monoamine transporter 2 . Dihydrotetrabenazine ( DTBZ ) derivatized from ( + ) DB04844 ( TBZ ) has been used for imaging the expression of Q05940 when labeled with (11)C ( t1/2=20.3 min ) or (18)F ( t1/2=110 min ) in neurodegenerative diseases or pancreatic beta-cell . Because (11)C or (18)F radiolabels are only available in the proximity of a biomedical cyclotron facility , here we report our work of derivatizing ( + ) and ( - ) DTBZ using a (64)Cu-specific bifunctional chelator scaffold ( (64)Cu : t1/2=12.7 h ) for the preparation of long-lived Q05940 targeted radiotracers , (64)Cu-CB-TE2A-(+)-DTBZ and (64)Cu-CB-TE2A-(-)-DTBZ . The specific Q05940 binding affinity of (64)Cu-CB-TE2A-(+)-DTBZ measured using rat brain homogenate or porcine islets was not compromised by our chemical modifications while that of its ( - ) counterpart remained low as in (11)C or (18)F labeled ( ± ) DTBZ . New obesity agents : lorcaserin and phentermine/topiramate . OBJECTIVE : To evaluate the evidence for lorcaserin and phentermine/topiramate in the treatment of obesity . DATA SOURCES : Literature was accessed through PubMed ( June 1975-March 2013 ) using the search terms lorcaserin , phentermine , topiramate , or phenter mine/topiramate . Additionally , reference citations from publications identified were reviewed . Additional information was obtained from the Food and Drug Administration ( FDA ) -approved prescribing information and FDA briefing documents . STUDY SELECTION AND DATA EXTRACTION : English-language articles focusing on Phase 3 clinical trials for obesity were critiqued . Data from preclinical and Phase 1 and/or 2 trials are reported when appropriate . Six prospective Phase 3 trials were reviewed . DATA SYNTHESIS : Obesity has reached epidemic proportions , affecting more than one third of adults in the US . Two medication products , lorcaserin and phenter mine/topiramate , have recently received FDA approval as adjuncts to a reduced-calorie diet and increased physical activity among individuals with a body mass index greater than or equal to 30 kg/m(2) or greater than or equal to 27 kg/m(2) with an obesity-related comorbidity , such as hypertension , dyslipidemia , or diabetes . DB04871 is a selective serotonin P28335 agonist that regulates food intake , while the combination of phentermine/topiramate causes appetite suppression and enhanced satiety . Three Phase 3 randomized , placebo-controlled trials reported approximately 75 % and 45 % of patients achieved greater than or equal to 5 % weight loss with phentermine/topiramate and lorcaserin , respectively . CONCLUSIONS : With lifestyle modification , phentermine/topiramate appears most effective in terms of weight loss . DB04871 demonstrates moderate efficacy . Long-term cardiovascular outcomes studies are needed to confirm the safety and benefit of these new obesity agents . Cross-talk between PKA-Cβ and p65 mediates synergistic induction of Q07343 by roflumilast and NTHi . Phosphodiesterase 4B ( Q07343 ) plays a key role in regulating inflammation . DB01656 , a phosphodiesterase (PDE)4-selective inhibitor , has recently been approved for treating severe chronic obstructive pulmonary disease ( P48444 ) patients with exacerbation . However , there is also clinical evidence suggesting the development of tachyphylaxis or tolerance on repeated dosing of roflumilast and the possible contribution of Q07343 up-regulation , which could be counterproductive for suppressing inflammation . Thus , understanding how Q07343 is up-regulated in the context of the complex pathogenesis and medications of P48444 may help improve the efficacy and possibly ameliorate the tolerance of roflumilast . Here we show that roflumilast synergizes with nontypeable Haemophilus influenzae ( NTHi ) , a major bacterial cause of P48444 exacerbation , to up-regulate PDE4B2 expression in human airway epithelial cells in vitro and in vivo . Up-regulated PDE4B2 contributes to the induction of certain important chemokines in both enzymatic activity-dependent and activity-independent manners . We also found that protein kinase A catalytic subunit β ( PKA-Cβ ) and nuclear factor-κB ( NF-κB ) p65 subunit were required for the synergistic induction of PDE4B2 . PKA-Cβ phosphorylates p65 in a DB02527 -dependent manner . Moreover , Ser276 of p65 is critical for mediating the PKA-Cβ-induced p65 phosphorylation and the synergistic induction of PDE4B2 . Collectively , our data unveil a previously unidentified mechanism underlying synergistic up-regulation of PDE4B2 via a cross-talk between PKA-Cβ and p65 and may help develop new therapeutic strategies to improve the efficacy of DB05876 inhibitor .\",\n",
       " 'answer': ['DB04844']}"
      ]
     },
     "execution_count": 11,
     "metadata": {},
     "output_type": "execute_result"
    }
   ],
   "source": [
    "dataset[0]"
   ]
  },
  {
   "cell_type": "code",
   "execution_count": 4,
   "metadata": {},
   "outputs": [
    {
     "name": "stdout",
     "output_type": "stream",
     "text": [
      "292 50\n"
     ]
    }
   ],
   "source": [
    "from collections import Counter\n",
    "\n",
    "n_contexts_for_raft = 50\n",
    "unique_contexts = Counter(dataset[\"context\"])\n",
    "count = 0\n",
    "raft_train_ctx = []\n",
    "raft_test_ctx = []\n",
    "for k, v in unique_contexts.items():\n",
    "  if v > 0 and count < n_contexts_for_raft:\n",
    "    count += 1\n",
    "    raft_train_ctx.append(k)\n",
    "  else:\n",
    "    raft_test_ctx.append(k)\n",
    "\n",
    "print(len(raft_test_ctx), len(raft_train_ctx))\n",
    "\n",
    "#raft_train_ctx = unique_contexts[:100]\n",
    "#raft_test_ctx = unique_contexts[100:]"
   ]
  },
  {
   "cell_type": "code",
   "execution_count": 7,
   "metadata": {},
   "outputs": [
    {
     "data": {
      "text/plain": [
       "Dataset({\n",
       "    features: ['id', 'question_id', 'document_id', 'question', 'type', 'choices', 'context', 'answer'],\n",
       "    num_rows: 292\n",
       "})"
      ]
     },
     "execution_count": 7,
     "metadata": {},
     "output_type": "execute_result"
    }
   ],
   "source": [
    "test_dataset = dataset.filter(lambda x: x[\"context\"] in raft_test_ctx)\n",
    "test_dataset"
   ]
  },
  {
   "cell_type": "code",
   "execution_count": 6,
   "metadata": {},
   "outputs": [
    {
     "data": {
      "text/plain": [
       "Dataset({\n",
       "    features: ['context', 'id', 'question_id', 'document_id', 'question', 'type', 'choices', 'answer'],\n",
       "    num_rows: 292\n",
       "})"
      ]
     },
     "execution_count": 6,
     "metadata": {},
     "output_type": "execute_result"
    }
   ],
   "source": [
    "from datasets import Dataset\n",
    "\n",
    "test_dataset_unique_ctx = test_dataset.to_pandas()\n",
    "test_dataset_unique_ctx = test_dataset_unique_ctx.groupby(\"context\").first().reset_index()\n",
    "test_dataset_unique_ctx = Dataset.from_pandas(test_dataset_unique_ctx)\n",
    "test_dataset_unique_ctx"
   ]
  },
  {
   "cell_type": "code",
   "execution_count": 8,
   "metadata": {},
   "outputs": [
    {
     "name": "stderr",
     "output_type": "stream",
     "text": [
      "Creating parquet from Arrow format: 100%|██████████| 1/1 [00:00<00:00, 13.02ba/s]\n",
      "Uploading the dataset shards: 100%|██████████| 1/1 [00:03<00:00,  3.11s/it]\n"
     ]
    },
    {
     "data": {
      "text/plain": [
       "CommitInfo(commit_url='https://huggingface.co/datasets/phatvo/medhop-raft-test/commit/c19f4524f39b431c761f85fc928804cd42657ae9', commit_message='Upload dataset', commit_description='', oid='c19f4524f39b431c761f85fc928804cd42657ae9', pr_url=None, pr_revision=None, pr_num=None)"
      ]
     },
     "execution_count": 8,
     "metadata": {},
     "output_type": "execute_result"
    }
   ],
   "source": [
    "# Dataset for evaluation raft\n",
    "uploaded_dataset_id = \"phatvo/medhop-raft-test\"\n",
    "test_dataset.push_to_hub(uploaded_dataset_id, split=\"test\", private=True)\n",
    "#test_dataset_unique_ctx.push_to_hub(uploaded_dataset_id, split=\"test_unique_ctx\", private=True)"
   ]
  },
  {
   "cell_type": "code",
   "execution_count": 9,
   "metadata": {},
   "outputs": [],
   "source": [
    "def save_context_to_file(data:list, filepath):\n",
    "  with open(filepath, \"w\") as f:\n",
    "    _data = [each.replace(\"\\n\", \"\") for each in data]\n",
    "    f.write(\"\\n\".join(_data) + \"\\n\")\n",
    "\n",
    "save_context_to_file(raft_train_ctx, \"../data/context_for_generate_medhop.txt\")"
   ]
  },
  {
   "cell_type": "code",
   "execution_count": 10,
   "metadata": {},
   "outputs": [
    {
     "name": "stdout",
     "output_type": "stream",
     "text": [
      "50\n"
     ]
    }
   ],
   "source": [
    "with open(\"../data/context_for_generate_medhop.txt\", \"r\") as f:\n",
    "  print(len(f.readlines()))"
   ]
  },
  {
   "cell_type": "code",
   "execution_count": null,
   "metadata": {},
   "outputs": [],
   "source": [
    "\"\"\"\n",
    "\n",
    "python3 raft.py \\\n",
    "    --datapath \"data/context_for_generate_medhop.txt\" \\\n",
    "    --output \"tmp/medhop-test-50-raft\" \\\n",
    "    --distractors 3 \\\n",
    "    --doctype txt \\\n",
    "    --chunk_size 512 \\\n",
    "    --questions 1 \\\n",
    "    --openai_key $OPENAI_KEY \\\n",
    "    --completion_model gpt-4o \\\n",
    "    --splitter breakline --p 0.95\n",
    "\n",
    "\"\"\""
   ]
  },
  {
   "cell_type": "code",
   "execution_count": null,
   "metadata": {},
   "outputs": [],
   "source": [
    "# $env:OPENAI_KEY="
   ]
  },
  {
   "cell_type": "code",
   "execution_count": 12,
   "metadata": {},
   "outputs": [
    {
     "name": "stderr",
     "output_type": "stream",
     "text": [
      "Generating train split: 57 examples [00:00, 576.65 examples/s]\n",
      "Map: 100%|██████████| 57/57 [00:00<00:00, 431.42 examples/s]\n"
     ]
    },
    {
     "data": {
      "text/plain": [
       "DatasetDict({\n",
       "    train: Dataset({\n",
       "        features: ['id', 'type', 'question', 'context', 'oracle_context', 'cot_answer', 'instruction', 'text'],\n",
       "        num_rows: 57\n",
       "    })\n",
       "})"
      ]
     },
     "execution_count": 12,
     "metadata": {},
     "output_type": "execute_result"
    }
   ],
   "source": [
    "from datasets import load_dataset\n",
    "\n",
    "ds = load_dataset(\"json\", data_files=\"../tmp/medhop-test-50-raft.jsonl\", )\n",
    "ds = ds.map(lambda x: {\"text\": f\"{x['instruction']}\\nCoT Answer: {x['cot_answer']}\"})\n",
    "ds"
   ]
  },
  {
   "cell_type": "code",
   "execution_count": 13,
   "metadata": {},
   "outputs": [
    {
     "name": "stderr",
     "output_type": "stream",
     "text": [
      "Creating parquet from Arrow format: 100%|██████████| 1/1 [00:00<00:00,  5.09ba/s]\n",
      "Uploading the dataset shards: 100%|██████████| 1/1 [00:03<00:00,  3.99s/it]\n"
     ]
    },
    {
     "data": {
      "text/plain": [
       "CommitInfo(commit_url='https://huggingface.co/datasets/phatvo/medhop-50-raft/commit/33c66e7270356278b521daecb9bdf9e61cec0e70', commit_message='Upload dataset', commit_description='', oid='33c66e7270356278b521daecb9bdf9e61cec0e70', pr_url=None, pr_revision=None, pr_num=None)"
      ]
     },
     "execution_count": 13,
     "metadata": {},
     "output_type": "execute_result"
    }
   ],
   "source": [
    "ds.push_to_hub(\"phatvo/medhop-50-raft\")"
   ]
  }
 ],
 "metadata": {
  "kernelspec": {
   "display_name": "py10",
   "language": "python",
   "name": "python3"
  },
  "language_info": {
   "codemirror_mode": {
    "name": "ipython",
    "version": 3
   },
   "file_extension": ".py",
   "mimetype": "text/x-python",
   "name": "python",
   "nbconvert_exporter": "python",
   "pygments_lexer": "ipython3",
   "version": "3.10.13"
  }
 },
 "nbformat": 4,
 "nbformat_minor": 2
}
